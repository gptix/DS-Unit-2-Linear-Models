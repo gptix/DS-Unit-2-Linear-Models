{
  "nbformat": 4,
  "nbformat_minor": 0,
  "metadata": {
    "colab": {
      "name": "Jud Taylor - assignment_regression_classification_2.ipynb",
      "provenance": [],
      "collapsed_sections": [
        "m9WiUtfq-4YM",
        "HAajGTNV--Gk",
        "QEjpABhX_DtN",
        "J50eJofn_IzH",
        "DxHWWS7HUt-p",
        "DsyLZTNM_YPf",
        "PMFMzXSyXJ_M",
        "AzF9-0rG_rqr",
        "QASIHlZR_8z2",
        "1AmIXojMADeI",
        "8DVt2-u4AMB4"
      ],
      "toc_visible": true,
      "include_colab_link": true
    },
    "kernelspec": {
      "display_name": "Python 3",
      "language": "python",
      "name": "python3"
    },
    "language_info": {
      "codemirror_mode": {
        "name": "ipython",
        "version": 3
      },
      "file_extension": ".py",
      "mimetype": "text/x-python",
      "name": "python",
      "nbconvert_exporter": "python",
      "pygments_lexer": "ipython3",
      "version": "3.7.3"
    }
  },
  "cells": [
    {
      "cell_type": "markdown",
      "metadata": {
        "id": "view-in-github",
        "colab_type": "text"
      },
      "source": [
        "<a href=\"https://colab.research.google.com/github/gptix/DS-Unit-2-Linear-Models/blob/master/Jud_Taylor_assignment_regression_classification_2.ipynb\" target=\"_parent\"><img src=\"https://colab.research.google.com/assets/colab-badge.svg\" alt=\"Open In Colab\"/></a>"
      ]
    },
    {
      "cell_type": "markdown",
      "metadata": {
        "id": "jWSt6b3yUMsA",
        "colab_type": "text"
      },
      "source": [
        "Lambda School Data Science\n",
        "\n",
        "*Unit 2, Sprint 1, Module 2*\n",
        "\n",
        "---"
      ]
    },
    {
      "cell_type": "markdown",
      "metadata": {
        "id": "pdxehChDBP6t",
        "colab_type": "text"
      },
      "source": [
        "# Regression 2"
      ]
    },
    {
      "cell_type": "markdown",
      "metadata": {
        "colab_type": "text",
        "id": "7IXUfiQ2UKj6"
      },
      "source": [
        "# Assignment\n",
        "\n",
        "You'll continue to **predict how much it costs to rent an apartment in NYC,** using the dataset from renthop.com.\n",
        "\n"
      ]
    },
    {
      "cell_type": "markdown",
      "metadata": {
        "id": "m9WiUtfq-4YM",
        "colab_type": "text"
      },
      "source": [
        "## Import useful code."
      ]
    },
    {
      "cell_type": "code",
      "metadata": {
        "id": "Gg2LlXRXUtzh",
        "colab_type": "code",
        "colab": {}
      },
      "source": [
        "# Import userful code.\n",
        "import sys\n",
        "import warnings\n",
        "# Ignore this Numpy warning when using Plotly Express:\n",
        "# FutureWarning: Method .ptp is deprecated and will be removed in a future version. Use numpy.ptp instead.\n",
        "warnings.filterwarnings(action='ignore', category=FutureWarning, module='numpy')\n",
        "\n",
        "import pandas as pd\n",
        "import numpy as np\n",
        "from sklearn.linear_model import LinearRegression\n",
        "from sklearn.metrics import mean_absolute_error, mean_squared_error, r2_score\n",
        "import plotly.express as px"
      ],
      "execution_count": 0,
      "outputs": []
    },
    {
      "cell_type": "markdown",
      "metadata": {
        "id": "HAajGTNV--Gk",
        "colab_type": "text"
      },
      "source": [
        "## Import raw data."
      ]
    },
    {
      "cell_type": "code",
      "metadata": {
        "id": "yXYFWAbmVqeX",
        "colab_type": "code",
        "colab": {}
      },
      "source": [
        "# Import data.\n",
        "\n",
        "# If on Colab:\n",
        "if 'google.colab' in sys.modules:\n",
        "    DATA_PATH = 'https://raw.githubusercontent.com/LambdaSchool/DS-Unit-2-Applied-Modeling/master/data/'\n",
        "# If local:\n",
        "else:\n",
        "    DATA_PATH = '../data/'\n",
        "    \n",
        "# Read New York City apartment rental listing data\n",
        "df = pd.read_csv(DATA_PATH+'apartments/renthop-nyc.csv')\n",
        "assert df.shape == (49352, 34)"
      ],
      "execution_count": 0,
      "outputs": []
    },
    {
      "cell_type": "markdown",
      "metadata": {
        "id": "QEjpABhX_DtN",
        "colab_type": "text"
      },
      "source": [
        "## Preliminary review of data."
      ]
    },
    {
      "cell_type": "code",
      "metadata": {
        "id": "0kajctEQWL-t",
        "colab_type": "code",
        "outputId": "e6849cf5-24ca-4a5c-d378-c87a7d9974a8",
        "colab": {
          "base_uri": "https://localhost:8080/",
          "height": 170
        }
      },
      "source": [
        "# Review data.\n",
        "# df\n",
        "# df.describe()\n",
        "# df.head()\n",
        "# df.tail()\n",
        "# df.columns\n",
        "# df.dtypes\n",
        "# df['bedrooms'].describe()\n",
        "# df.shape\n",
        "df.columns"
      ],
      "execution_count": 12,
      "outputs": [
        {
          "output_type": "execute_result",
          "data": {
            "text/plain": [
              "Index(['bathrooms', 'bedrooms', 'created', 'description', 'display_address',\n",
              "       'latitude', 'longitude', 'price', 'street_address', 'interest_level',\n",
              "       'elevator', 'cats_allowed', 'hardwood_floors', 'dogs_allowed',\n",
              "       'doorman', 'dishwasher', 'no_fee', 'laundry_in_building',\n",
              "       'fitness_center', 'pre-war', 'laundry_in_unit', 'roof_deck',\n",
              "       'outdoor_space', 'dining_room', 'high_speed_internet', 'balcony',\n",
              "       'swimming_pool', 'new_construction', 'terrace', 'exclusive', 'loft',\n",
              "       'garden_patio', 'wheelchair_access', 'common_outdoor_space'],\n",
              "      dtype='object')"
            ]
          },
          "metadata": {
            "tags": []
          },
          "execution_count": 12
        }
      ]
    },
    {
      "cell_type": "markdown",
      "metadata": {
        "id": "J50eJofn_IzH",
        "colab_type": "text"
      },
      "source": [
        "## Clean data."
      ]
    },
    {
      "cell_type": "code",
      "metadata": {
        "id": "Vg9n4t1uWmpU",
        "colab_type": "code",
        "outputId": "27f45cab-5c95-4fcd-888e-573302edaf16",
        "colab": {
          "base_uri": "https://localhost:8080/",
          "height": 34
        }
      },
      "source": [
        "# Remove outliers: \n",
        "\n",
        "# the most extreme 1% prices,\n",
        "# the most extreme .1% latitudes, &\n",
        "# the most extreme .1% longitudes\n",
        "df = df[(df['price'] >= 1375) & (df['price'] <= 15500) & \n",
        "        (df['latitude'] >=40.57) & (df['latitude'] < 40.99) &\n",
        "        (df['longitude'] >= -74.1) & (df['longitude'] <= -73.38)]\n",
        "df.shape"
      ],
      "execution_count": 0,
      "outputs": [
        {
          "output_type": "execute_result",
          "data": {
            "text/plain": [
              "(48818, 34)"
            ]
          },
          "metadata": {
            "tags": []
          },
          "execution_count": 4
        }
      ]
    },
    {
      "cell_type": "markdown",
      "metadata": {
        "id": "DxHWWS7HUt-p",
        "colab_type": "text"
      },
      "source": [
        "## Split for Training & Test.\n",
        "\n",
        "- [ ] Do train/test split. Use data from April & May 2016 to train. Use data from June 2016 to test."
      ]
    },
    {
      "cell_type": "code",
      "metadata": {
        "id": "Brlwn1JrXJ0S",
        "colab_type": "code",
        "colab": {}
      },
      "source": [
        "train = df[(df['created'] >= '2016-04') & (df['created'] < '2016-06')]\n",
        "test  = df[(df['created'] >= '2016-06') & (df['created'] < '2016-07')]\n",
        "# test['dining_room'].unique()"
      ],
      "execution_count": 0,
      "outputs": []
    },
    {
      "cell_type": "markdown",
      "metadata": {
        "id": "DsyLZTNM_YPf",
        "colab_type": "text"
      },
      "source": [
        "## Engineer Features."
      ]
    },
    {
      "cell_type": "markdown",
      "metadata": {
        "id": "kvzUmBmOcLWb",
        "colab_type": "text"
      },
      "source": [
        "- [ ] Engineer at least two new features. (See below for explanation & ideas.)"
      ]
    },
    {
      "cell_type": "code",
      "metadata": {
        "id": "x6tlu8t_cQAw",
        "colab_type": "code",
        "colab": {}
      },
      "source": [
        "def add_bed_bath_dining_column(frame):\n",
        "  '''Return a dataframe that has an added feature: the sum o the counts of \n",
        "  bedrooms, bathrooms, and dining_room.'''\n",
        "  frame['bed_bath_dining'] = frame.apply(lambda row: row.bathrooms + row.bedrooms + row.dining_room , axis=1)\n",
        "  return frame\n",
        "\n",
        "test  = add_bed_bath_dining_column(test)\n",
        "train = add_bed_bath_dining_column(train)\n",
        "\n",
        "# test['bed_bath_dining']"
      ],
      "execution_count": 0,
      "outputs": []
    },
    {
      "cell_type": "code",
      "metadata": {
        "id": "C2-xvacik8PX",
        "colab_type": "code",
        "colab": {
          "base_uri": "https://localhost:8080/",
          "height": 173
        },
        "outputId": "b5facdee-d30e-4263-9e59-60b6b77144f4"
      },
      "source": [
        "# private_outdoor_fields = ['balcony', 'terrace', 'garden_patio']\n",
        "\n",
        "def add_private_outdoor(frame):\n",
        "  frame['private_outdoor'] = frame.apply(lambda row: row.balcony | row.terrace | row.garden_patio, axis=1)\n",
        "  return frame\n",
        "\n",
        "test  = add_private_outdoor(test)\n",
        "train = add_private_outdoor(train)\n",
        "\n",
        "# test['private_outdoor']"
      ],
      "execution_count": 18,
      "outputs": [
        {
          "output_type": "stream",
          "text": [
            "/usr/local/lib/python3.6/dist-packages/ipykernel_launcher.py:4: SettingWithCopyWarning:\n",
            "\n",
            "\n",
            "A value is trying to be set on a copy of a slice from a DataFrame.\n",
            "Try using .loc[row_indexer,col_indexer] = value instead\n",
            "\n",
            "See the caveats in the documentation: http://pandas.pydata.org/pandas-docs/stable/user_guide/indexing.html#returning-a-view-versus-a-copy\n",
            "\n"
          ],
          "name": "stderr"
        }
      ]
    },
    {
      "cell_type": "markdown",
      "metadata": {
        "id": "PMFMzXSyXJ_M",
        "colab_type": "text"
      },
      "source": [
        "## Fit a model with at least two features.\n",
        "- [ ] Fit a linear regression model with at least two features.\n"
      ]
    },
    {
      "cell_type": "code",
      "metadata": {
        "id": "Ph25Pq_nnuqB",
        "colab_type": "code",
        "colab": {}
      },
      "source": [
        "# VDP step one: Select model.\n",
        "# LinearRegression imported above"
      ],
      "execution_count": 0,
      "outputs": []
    },
    {
      "cell_type": "code",
      "metadata": {
        "id": "llI7klDnnQUB",
        "colab_type": "code",
        "colab": {}
      },
      "source": [
        "# VDP step two: Instantiate model class.\n",
        "model = LinearRegression()"
      ],
      "execution_count": 0,
      "outputs": []
    },
    {
      "cell_type": "code",
      "metadata": {
        "id": "8tlBCkPDoK5D",
        "colab_type": "code",
        "colab": {
          "base_uri": "https://localhost:8080/",
          "height": 34
        },
        "outputId": "a6def0f7-b4b9-43bd-dbfb-052fa4a0d151"
      },
      "source": [
        "# VDP step 3: Arrange X features matrices, and y target vectors.\n",
        "# X\n",
        "features = ['private_outdoor', 'bed_bath_dining']\n",
        "X_train = train[features]\n",
        "X_test = test[features]\n",
        "\n",
        "# y\n",
        "y_train = train['price']\n",
        "y_test = test['price']\n",
        "\n",
        "print(f'Linear Regression, dependent on: {features}')"
      ],
      "execution_count": 21,
      "outputs": [
        {
          "output_type": "stream",
          "text": [
            "Linear Regression, dependent on: ['private_outdoor', 'bed_bath_dining']\n"
          ],
          "name": "stdout"
        }
      ]
    },
    {
      "cell_type": "code",
      "metadata": {
        "id": "gSDPYWTbpAwa",
        "colab_type": "code",
        "colab": {
          "base_uri": "https://localhost:8080/",
          "height": 34
        },
        "outputId": "9dd7f838-bfac-40f2-a7af-5fe8497b6d80"
      },
      "source": [
        "# VDP step 4: Fit the model.\n",
        "model.fit(X_train, y_train)\n",
        "y_pred = model.predict(X_train)\n",
        "mae = mean_absolute_error(y_train, y_pred)\n",
        "print(f'Training set mean absolute error: ${mae:.2f}')"
      ],
      "execution_count": 27,
      "outputs": [
        {
          "output_type": "stream",
          "text": [
            "Training set mean absolute error: $894.27\n"
          ],
          "name": "stdout"
        }
      ]
    },
    {
      "cell_type": "markdown",
      "metadata": {
        "id": "AzF9-0rG_rqr",
        "colab_type": "text"
      },
      "source": [
        "## Get Coefficients and Intercept to use in evaluating model."
      ]
    },
    {
      "cell_type": "markdown",
      "metadata": {
        "id": "3uXuuQEwnLun",
        "colab_type": "text"
      },
      "source": [
        "- [ ] Get the model's coefficients and intercept."
      ]
    },
    {
      "cell_type": "code",
      "metadata": {
        "id": "6flyo4ihrA6n",
        "colab_type": "code",
        "colab": {
          "base_uri": "https://localhost:8080/",
          "height": 34
        },
        "outputId": "47779ec8-e472-433a-f9a0-97d5580b20f0"
      },
      "source": [
        "coefficients = model.coef_\n",
        "coefficients"
      ],
      "execution_count": 28,
      "outputs": [
        {
          "output_type": "execute_result",
          "data": {
            "text/plain": [
              "array([265.72740142, 754.02827215])"
            ]
          },
          "metadata": {
            "tags": []
          },
          "execution_count": 28
        }
      ]
    },
    {
      "cell_type": "code",
      "metadata": {
        "id": "K47HaoHrrz0J",
        "colab_type": "code",
        "colab": {
          "base_uri": "https://localhost:8080/",
          "height": 34
        },
        "outputId": "ed7a3bb7-c9b1-4e4f-ebb9-f35689ee01de"
      },
      "source": [
        "intercept = model.intercept_\n",
        "intercept"
      ],
      "execution_count": 29,
      "outputs": [
        {
          "output_type": "execute_result",
          "data": {
            "text/plain": [
              "1410.4784720573466"
            ]
          },
          "metadata": {
            "tags": []
          },
          "execution_count": 29
        }
      ]
    },
    {
      "cell_type": "markdown",
      "metadata": {
        "id": "QASIHlZR_8z2",
        "colab_type": "text"
      },
      "source": [
        "## Get newly introduced metrics."
      ]
    },
    {
      "cell_type": "markdown",
      "metadata": {
        "id": "zLUOxDDdq8p_",
        "colab_type": "text"
      },
      "source": [
        "\n",
        "- [ ] Get regression metrics RMSE, MAE, and $R^2$, for both the train and test data.\n"
      ]
    },
    {
      "cell_type": "markdown",
      "metadata": {
        "id": "1AmIXojMADeI",
        "colab_type": "text"
      },
      "source": [
        "### Ryan's code (not used yet)"
      ]
    },
    {
      "cell_type": "code",
      "metadata": {
        "id": "bEjCyBCjtNel",
        "colab_type": "code",
        "colab": {}
      },
      "source": [
        "# Code by Ryan Herr (Lambda School)\n",
        "# from matplotlib.patches import Rectangle\n",
        "# import matplotlib.pyplot as plt\n",
        "# import numpy as np\n",
        "# from sklearn.metrics import mean_absolute_error, mean_squared_error, r2_score\n",
        "\n",
        "# def squared_errors(df, feature, target, m, b):\n",
        "#     \"\"\"\n",
        "#     Visualize linear regression, with squared errors,\n",
        "#     in 2D: 1 feature + 1 target.\n",
        "    \n",
        "#     Use the m & b parameters to \"fit the model\" manually.\n",
        "    \n",
        "#     df : Pandas DataFrame\n",
        "#     feature : string, feature column in df\n",
        "#     target : string, target column in df\n",
        "#     m : numeric, slope for linear equation\n",
        "#     b : numeric, intercept for linear requation\n",
        "#     \"\"\"\n",
        "    \n",
        "#     # Plot data\n",
        "#     fig = plt.figure(figsize=(7,7))\n",
        "#     ax = plt.axes()\n",
        "#     df.plot.scatter(feature, target, ax=ax)\n",
        "    \n",
        "#     # Make predictions\n",
        "#     x = df[feature]\n",
        "#     y = df[target]\n",
        "#     y_pred = m*x + b\n",
        "    \n",
        "#     # Plot predictions\n",
        "#     ax.plot(x, y_pred)\n",
        "    \n",
        "#     # Plot squared errors\n",
        "#     xmin, xmax = ax.get_xlim()\n",
        "#     ymin, ymax = ax.get_ylim()\n",
        "#     scale = (xmax-xmin)/(ymax-ymin)\n",
        "#     for x, y1, y2 in zip(x, y, y_pred):\n",
        "#         bottom_left = (x, min(y1, y2))\n",
        "#         height = abs(y1 - y2)\n",
        "#         width = height * scale\n",
        "#         ax.add_patch(Rectangle(xy=bottom_left, width=width, height=height, alpha=0.1))\n",
        "    \n",
        "#     # Print regression metrics\n",
        "#     mse = mean_squared_error(y, y_pred)\n",
        "#     rmse = np.sqrt(mse)\n",
        "#     mae = mean_absolute_error(y, y_pred)\n",
        "#     r2 = r2_score(y, y_pred)\n",
        "#     print('Mean Squared Error:', mse)\n",
        "#     print('Root Mean Squared Error:', rmse)\n",
        "#     print('Mean Absolute Error:', mae)\n",
        "#     print('R^2:', r2)"
      ],
      "execution_count": 0,
      "outputs": []
    },
    {
      "cell_type": "code",
      "metadata": {
        "id": "bFZF-N_tsGRG",
        "colab_type": "code",
        "colab": {}
      },
      "source": [
        "def pred(series, coefs, intercept):\n",
        "  return ((series.private_outdoor * coefs[0] + \n",
        "           series.bed_bath_dining * coefs[1] +\n",
        "           intercept))\n",
        "\n",
        "y_pred_train = train.apply(lambda row: pred(row, coefficients, intercept), axis=1)\n",
        "\n",
        "y_pred_test = test.apply(lambda row: pred(row, coefficients, intercept), axis=1)\n",
        "# y_pred"
      ],
      "execution_count": 0,
      "outputs": []
    },
    {
      "cell_type": "code",
      "metadata": {
        "id": "DUB9zNHswqiB",
        "colab_type": "code",
        "colab": {
          "base_uri": "https://localhost:8080/",
          "height": 153
        },
        "outputId": "2def61c1-4287-4189-cfab-bdf1fe18a134"
      },
      "source": [
        "# TODO - redo Ryan's function, genericize standard metrics.\n",
        "\n",
        "#RMSE\n",
        "mse_train = mean_squared_error(y_train, y_pred_train)\n",
        "mse_train\n",
        "mse_test  = mean_squared_error(y_test,  y_pred_test )\n",
        "mse_test\n",
        "\n",
        "rmse_train = np.sqrt(mse_train)\n",
        "rmse_test  = np.sqrt(mse_test )\n",
        "\n",
        "#MAE\n",
        "mae_train = mean_absolute_error(y_train, y_pred_train)\n",
        "mae_test  = mean_absolute_error(y_test,  y_pred_test )\n",
        "\n",
        "# R2\n",
        "r2_train = r2_score(y_train, y_pred_train)\n",
        "r2_test  = r2_score(y_test,  y_pred_test )\n",
        "\n",
        "print(f'RMSE, training: ${rmse_train:,.2f}')\n",
        "print(f'RMSE, test: ${rmse_test:,.2f}')\n",
        "print()\n",
        "print(f'MAE, training: ${mae_train:,.2f}')\n",
        "print(f'MAE, test: ${mae_test:,.2f}')\n",
        "print()\n",
        "print(f'R^2, training: {(100 * r2_train):.2f}%')\n",
        "print(f'R^2, test: {(100 * r2_test):.2f}%')\n"
      ],
      "execution_count": 65,
      "outputs": [
        {
          "output_type": "stream",
          "text": [
            "RMSE, training: $1,329.37\n",
            "RMSE, test: $1,324.60\n",
            "\n",
            "MAE, training: $894.27\n",
            "MAE, test: $903.83\n",
            "\n",
            "R^2, training: 43.09%\n",
            "R^2, test: 43.55%\n"
          ],
          "name": "stdout"
        }
      ]
    },
    {
      "cell_type": "code",
      "metadata": {
        "id": "p-uCWg-uBlft",
        "colab_type": "code",
        "colab": {}
      },
      "source": [
        ""
      ],
      "execution_count": 0,
      "outputs": []
    },
    {
      "cell_type": "markdown",
      "metadata": {
        "id": "8DVt2-u4AMB4",
        "colab_type": "text"
      },
      "source": [
        "## Evaluate model so far."
      ]
    },
    {
      "cell_type": "markdown",
      "metadata": {
        "id": "WKclUQqwsDWA",
        "colab_type": "text"
      },
      "source": [
        "- [ ] What's the best test MAE you can get? Share your score and features used with your cohort on Slack!\n",
        "\n",
        "**My best MAE so far is $903.83.**\n",
        "\n",
        "**I have shared MAE and features on slack.**"
      ]
    },
    {
      "cell_type": "markdown",
      "metadata": {
        "id": "iLnnRdof9UbJ",
        "colab_type": "text"
      },
      "source": [
        "## Push to GitHub.\n",
        "- [ ] As always, commit your notebook to your fork of the GitHub repo.\n",
        "\n",
        "**Done.**"
      ]
    },
    {
      "cell_type": "markdown",
      "metadata": {
        "id": "zpwZczFqAX5K",
        "colab_type": "text"
      },
      "source": [
        "# More\n",
        "\n",
        "#### [Feature Engineering](https://en.wikipedia.org/wiki/Feature_engineering)\n",
        "\n",
        "> \"Some machine learning projects succeed and some fail. What makes the difference? Easily the most important factor is the features used.\" — Pedro Domingos, [\"A Few Useful Things to Know about Machine Learning\"](https://homes.cs.washington.edu/~pedrod/papers/cacm12.pdf)\n",
        "\n",
        "> \"Coming up with features is difficult, time-consuming, requires expert knowledge. 'Applied machine learning' is basically feature engineering.\" — Andrew Ng, [Machine Learning and AI via Brain simulations](https://forum.stanford.edu/events/2011/2011slides/plenary/2011plenaryNg.pdf) \n",
        "\n",
        "> Feature engineering is the process of using domain knowledge of the data to create features that make machine learning algorithms work. \n",
        "\n",
        "#### Feature Ideas\n",
        "- Does the apartment have a description?\n",
        "- How long is the description?\n",
        "- How many total perks does each apartment have?\n",
        "- Are cats _or_ dogs allowed?\n",
        "- Are cats _and_ dogs allowed?\n",
        "- Total number of rooms (beds + baths)\n",
        "- Ratio of beds to baths\n",
        "- What's the neighborhood, based on address or latitude & longitude?\n",
        "\n",
        "## Stretch Goals\n",
        "- [ ] If you want more math, skim [_An Introduction to Statistical Learning_](http://faculty.marshall.usc.edu/gareth-james/ISL/ISLR%20Seventh%20Printing.pdf),  Chapter 3.1, Simple Linear Regression, & Chapter 3.2, Multiple Linear Regression\n",
        "- [ ] If you want more introduction, watch [Brandon Foltz, Statistics 101: Simple Linear Regression](https://www.youtube.com/watch?v=ZkjP5RJLQF4)\n",
        "(20 minutes, over 1 million views)\n",
        "- [ ] Add your own stretch goal(s) !"
      ]
    }
  ]
}