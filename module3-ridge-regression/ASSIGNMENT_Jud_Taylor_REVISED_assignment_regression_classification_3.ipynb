{
  "nbformat": 4,
  "nbformat_minor": 0,
  "metadata": {
    "colab": {
      "name": "ASSIGNMENT - Jud Taylor - REVISED -  assignment_regression_classification_3.ipynb",
      "provenance": [],
      "collapsed_sections": [],
      "include_colab_link": true
    },
    "kernelspec": {
      "display_name": "Python 3",
      "language": "python",
      "name": "python3"
    },
    "language_info": {
      "codemirror_mode": {
        "name": "ipython",
        "version": 3
      },
      "file_extension": ".py",
      "mimetype": "text/x-python",
      "name": "python",
      "nbconvert_exporter": "python",
      "pygments_lexer": "ipython3",
      "version": "3.7.3"
    }
  },
  "cells": [
    {
      "cell_type": "markdown",
      "metadata": {
        "id": "view-in-github",
        "colab_type": "text"
      },
      "source": [
        "<a href=\"https://colab.research.google.com/github/gptix/DS-Unit-2-Linear-Models/blob/master/module3-ridge-regression/ASSIGNMENT_Jud_Taylor_REVISED_assignment_regression_classification_3.ipynb\" target=\"_parent\"><img src=\"https://colab.research.google.com/assets/colab-badge.svg\" alt=\"Open In Colab\"/></a>"
      ]
    },
    {
      "cell_type": "markdown",
      "metadata": {
        "id": "5avl-0BrY18O",
        "colab_type": "text"
      },
      "source": [
        "Lambda School Data Science\n",
        "\n",
        "*Unit 2, Sprint 1, Module 3*\n",
        "\n",
        "---"
      ]
    },
    {
      "cell_type": "markdown",
      "metadata": {
        "colab_type": "text",
        "id": "7IXUfiQ2UKj6"
      },
      "source": [
        "# Ridge Regression\n",
        "\n",
        "## Assignment\n",
        "\n",
        "We're going back to our other **New York City** real estate dataset. Instead of predicting apartment rents, you'll predict property sales prices.\n",
        "\n",
        "But not just for condos in Tribeca...\n",
        "\n",
        "- [ ] Use a subset of the data where `BUILDING_CLASS_CATEGORY` == `'01 ONE FAMILY DWELLINGS'` and the sale price was more than 100 thousand and less than 2 million.\n",
        "- [ ] Do train/test split. Use data from January — March 2019 to train. Use data from April 2019 to test.\n",
        "- [ ] Do one-hot encoding of categorical features.\n",
        "- [ ] Do feature selection with `SelectKBest`.\n",
        "- [ ] Fit a ridge regression model with multiple features. Use the `normalize=True` parameter (or do [feature scaling](https://scikit-learn.org/stable/modules/preprocessing.html) beforehand — use the scaler's `fit_transform` method with the train set, and the scaler's `transform` method with the test set)\n",
        "- [ ] Get mean absolute error for the test set.\n",
        "- [ ] As always, commit your notebook to your fork of the GitHub repo.\n",
        "\n",
        "The [NYC Department of Finance](https://www1.nyc.gov/site/finance/taxes/property-rolling-sales-data.page) has a glossary of property sales terms and NYC Building Class Code Descriptions. The data comes from the [NYC OpenData](https://data.cityofnewyork.us/browse?q=NYC%20calendar%20sales) portal.\n",
        "\n",
        "\n",
        "## Stretch Goals\n",
        "\n",
        "Don't worry, you aren't expected to do all these stretch goals! These are just ideas to consider and choose from.\n",
        "\n",
        "- [ ] Add your own stretch goal(s) !\n",
        "- [ ] Instead of `Ridge`, try `LinearRegression`. Depending on how many features you select, your errors will probably blow up! 💥\n",
        "- [ ] Instead of `Ridge`, try [`RidgeCV`](https://scikit-learn.org/stable/modules/generated/sklearn.linear_model.RidgeCV.html).\n",
        "- [ ] Learn more about feature selection:\n",
        "    - [\"Permutation importance\"](https://www.kaggle.com/dansbecker/permutation-importance)\n",
        "    - [scikit-learn's User Guide for Feature Selection](https://scikit-learn.org/stable/modules/feature_selection.html)\n",
        "    - [mlxtend](http://rasbt.github.io/mlxtend/) library\n",
        "    - scikit-learn-contrib libraries: [boruta_py](https://github.com/scikit-learn-contrib/boruta_py) & [stability-selection](https://github.com/scikit-learn-contrib/stability-selection)\n",
        "    - [_Feature Engineering and Selection_](http://www.feat.engineering/) by Kuhn & Johnson.\n",
        "- [ ] Try [statsmodels](https://www.statsmodels.org/stable/index.html) if you’re interested in more inferential statistical approach to linear regression and feature selection, looking at p values and 95% confidence intervals for the coefficients.\n",
        "- [ ] Read [_An Introduction to Statistical Learning_](http://faculty.marshall.usc.edu/gareth-james/ISL/ISLR%20Seventh%20Printing.pdf), Chapters 1-3, for more math & theory, but in an accessible, readable way.\n",
        "- [ ] Try [scikit-learn pipelines](https://scikit-learn.org/stable/modules/compose.html)."
      ]
    },
    {
      "cell_type": "markdown",
      "metadata": {
        "id": "9nVkq6gOfNNP",
        "colab_type": "text"
      },
      "source": [
        "# Assignment"
      ]
    },
    {
      "cell_type": "markdown",
      "metadata": {
        "id": "CFbKDtbIfU3q",
        "colab_type": "text"
      },
      "source": [
        "## Set up for Import."
      ]
    },
    {
      "cell_type": "code",
      "metadata": {
        "colab_type": "code",
        "id": "o9eSnDYhUGD7",
        "colab": {}
      },
      "source": [
        "%%capture\n",
        "import sys\n",
        "\n",
        "# If you're on Colab:\n",
        "if 'google.colab' in sys.modules:\n",
        "    DATA_PATH = 'https://raw.githubusercontent.com/LambdaSchool/DS-Unit-2-Applied-Modeling/master/data/'\n",
        "    !pip install category_encoders==2.*\n",
        "\n",
        "# If you're working locally:\n",
        "else:\n",
        "    DATA_PATH = '../data/'\n",
        "    \n",
        "# Ignore this Numpy warning when using Plotly Express:\n",
        "# FutureWarning: Method .ptp is deprecated and will be removed in a future version. Use numpy.ptp instead.\n",
        "import warnings\n",
        "warnings.filterwarnings(action='ignore', category=FutureWarning, module='numpy')"
      ],
      "execution_count": 0,
      "outputs": []
    },
    {
      "cell_type": "markdown",
      "metadata": {
        "id": "r64KF0IcZcge",
        "colab_type": "text"
      },
      "source": [
        "## Import useful code."
      ]
    },
    {
      "cell_type": "code",
      "metadata": {
        "id": "RGyar_HQZW9K",
        "colab_type": "code",
        "colab": {}
      },
      "source": [
        "# Import userful code.\n",
        "import sys\n",
        "import warnings\n",
        "# Ignore this Numpy warning when using Plotly Express:\n",
        "# FutureWarning: Method .ptp is deprecated and will be removed in a future version. Use numpy.ptp instead.\n",
        "warnings.filterwarnings(action='ignore', category=FutureWarning, module='numpy')\n",
        "\n",
        "import pandas as pd\n",
        "import pandas_profiling\n",
        "import numpy as np\n",
        "import matplotlib.pyplot as plt\n",
        "\n",
        "from sklearn.linear_model import LinearRegression, Ridge, RidgeCV\n",
        "from sklearn.metrics import mean_absolute_error, mean_squared_error, r2_score\n",
        "from sklearn.feature_selection import SelectKBest, f_regression\n",
        "\n",
        "import plotly.express as px\n",
        "\n",
        "import category_encoders as ce\n",
        "\n",
        "from IPython.display import display, HTML"
      ],
      "execution_count": 0,
      "outputs": []
    },
    {
      "cell_type": "markdown",
      "metadata": {
        "id": "XwkfTtFjZiGX",
        "colab_type": "text"
      },
      "source": [
        "## Import raw data."
      ]
    },
    {
      "cell_type": "code",
      "metadata": {
        "colab_type": "code",
        "id": "QJBD4ruICm1m",
        "colab": {}
      },
      "source": [
        "# Read New York City property sales data\n",
        "df_raw = pd.read_csv(DATA_PATH+'condos/NYC_Citywide_Rolling_Calendar_Sales.csv')"
      ],
      "execution_count": 0,
      "outputs": []
    },
    {
      "cell_type": "markdown",
      "metadata": {
        "id": "CZNxp6_HkcFT",
        "colab_type": "text"
      },
      "source": [
        "Make a non-raw copy of df."
      ]
    },
    {
      "cell_type": "code",
      "metadata": {
        "id": "EzzjYz-mkhdH",
        "colab_type": "code",
        "colab": {
          "base_uri": "https://localhost:8080/",
          "height": 158
        },
        "outputId": "a450c534-b959-48db-9ccf-c61c1dec9636"
      },
      "source": [
        "df = df_raw\n",
        "df.columns"
      ],
      "execution_count": 39,
      "outputs": [
        {
          "output_type": "execute_result",
          "data": {
            "text/plain": [
              "Index(['BOROUGH', 'NEIGHBORHOOD', 'BUILDING CLASS CATEGORY',\n",
              "       'TAX CLASS AT PRESENT', 'BLOCK', 'LOT', 'EASE-MENT',\n",
              "       'BUILDING CLASS AT PRESENT', 'ADDRESS', 'APARTMENT NUMBER', 'ZIP CODE',\n",
              "       'RESIDENTIAL UNITS', 'COMMERCIAL UNITS', 'TOTAL UNITS',\n",
              "       'LAND SQUARE FEET', 'GROSS SQUARE FEET', 'YEAR BUILT',\n",
              "       'TAX CLASS AT TIME OF SALE', 'BUILDING CLASS AT TIME OF SALE',\n",
              "       'SALE PRICE', 'SALE DATE'],\n",
              "      dtype='object')"
            ]
          },
          "metadata": {
            "tags": []
          },
          "execution_count": 39
        }
      ]
    },
    {
      "cell_type": "markdown",
      "metadata": {
        "id": "cUWrHaaUZqmo",
        "colab_type": "text"
      },
      "source": [
        "## Clean data."
      ]
    },
    {
      "cell_type": "code",
      "metadata": {
        "id": "rld-ESmLZrKP",
        "colab_type": "code",
        "colab": {}
      },
      "source": [
        "# Change column names: replace spaces with underscores\n",
        "df.columns = [col.replace(' ', '_') for col in df]\n",
        "\n",
        "# SALE_PRICE was read as strings.\n",
        "# Remove symbols, convert to integer\n",
        "df['SALE_PRICE'] = (\n",
        "    df['SALE_PRICE']\n",
        "    .str.replace('$','')\n",
        "    .str.replace('-','')\n",
        "    .str.replace(',','')\n",
        "    .astype(int)\n",
        ")\n",
        "\n",
        "# df.columns"
      ],
      "execution_count": 0,
      "outputs": []
    },
    {
      "cell_type": "markdown",
      "metadata": {
        "id": "LKf2rOBSfe-N",
        "colab_type": "text"
      },
      "source": [
        "## Filter data."
      ]
    },
    {
      "cell_type": "code",
      "metadata": {
        "id": "FJIYGsiafkQF",
        "colab_type": "code",
        "colab": {
          "base_uri": "https://localhost:8080/",
          "height": 158
        },
        "outputId": "8ffb7e94-6eac-449a-cd74-e501d0871b8e"
      },
      "source": [
        "# Use a subset of the data where BUILDING_CLASS_CATEGORY == \n",
        "# '01 ONE FAMILY DWELLINGS' and the sale price \n",
        "# was more than 100 thousand and less than 2 million.\n",
        "# df_raw.shape\n",
        "df = df[df['BUILDING_CLASS_CATEGORY']=='01 ONE FAMILY DWELLINGS']\n",
        "\n",
        "df = df[(df['SALE_PRICE']<2e6) & (df['SALE_PRICE']>1e5)]\n",
        "\n",
        "df.columns\n",
        "# df.shape"
      ],
      "execution_count": 41,
      "outputs": [
        {
          "output_type": "execute_result",
          "data": {
            "text/plain": [
              "Index(['BOROUGH', 'NEIGHBORHOOD', 'BUILDING_CLASS_CATEGORY',\n",
              "       'TAX_CLASS_AT_PRESENT', 'BLOCK', 'LOT', 'EASE-MENT',\n",
              "       'BUILDING_CLASS_AT_PRESENT', 'ADDRESS', 'APARTMENT_NUMBER', 'ZIP_CODE',\n",
              "       'RESIDENTIAL_UNITS', 'COMMERCIAL_UNITS', 'TOTAL_UNITS',\n",
              "       'LAND_SQUARE_FEET', 'GROSS_SQUARE_FEET', 'YEAR_BUILT',\n",
              "       'TAX_CLASS_AT_TIME_OF_SALE', 'BUILDING_CLASS_AT_TIME_OF_SALE',\n",
              "       'SALE_PRICE', 'SALE_DATE'],\n",
              "      dtype='object')"
            ]
          },
          "metadata": {
            "tags": []
          },
          "execution_count": 41
        }
      ]
    },
    {
      "cell_type": "markdown",
      "metadata": {
        "id": "aatq54sPZ1s4",
        "colab_type": "text"
      },
      "source": [
        "## Engineer some more."
      ]
    },
    {
      "cell_type": "code",
      "metadata": {
        "id": "5LovmJOyY18b",
        "colab_type": "code",
        "colab": {}
      },
      "source": [
        "# BOROUGH is a numeric column, but arguably should be a categorical feature,\n",
        "# so convert it from a number to a string\n",
        "df['BOROUGH'] = df['BOROUGH'].astype(str)"
      ],
      "execution_count": 0,
      "outputs": []
    },
    {
      "cell_type": "code",
      "metadata": {
        "id": "8dUxEUTrYLHT",
        "colab_type": "code",
        "colab": {
          "base_uri": "https://localhost:8080/",
          "height": 52
        },
        "outputId": "63212cbe-763e-4f16-82d6-16505552f762"
      },
      "source": [
        "print(df.shape)\n",
        "\n",
        "df=df[  (df['GROSS_SQUARE_FEET'] >= np.percentile(df['GROSS_SQUARE_FEET'], 0.5)) &\n",
        "        (df['GROSS_SQUARE_FEET'] <= np.percentile(df['GROSS_SQUARE_FEET'], 0.95))  ]\n",
        "\n",
        "df.shape  "
      ],
      "execution_count": 43,
      "outputs": [
        {
          "output_type": "stream",
          "text": [
            "(3151, 21)\n"
          ],
          "name": "stdout"
        },
        {
          "output_type": "execute_result",
          "data": {
            "text/plain": [
              "(40, 21)"
            ]
          },
          "metadata": {
            "tags": []
          },
          "execution_count": 43
        }
      ]
    },
    {
      "cell_type": "code",
      "metadata": {
        "id": "U25b_M7FY18e",
        "colab_type": "code",
        "colab": {}
      },
      "source": [
        "# Reduce cardinality for NEIGHBORHOOD feature\n",
        "\n",
        "# Get a list of the top 10 neighborhoods\n",
        "top10 = df['NEIGHBORHOOD'].value_counts()[:10].index\n",
        "\n",
        "# At locations where the neighborhood is NOT in the top 10, \n",
        "# replace the neighborhood with 'OTHER'\n",
        "df.loc[~df['NEIGHBORHOOD'].isin(top10), 'NEIGHBORHOOD'] = 'OTHER'"
      ],
      "execution_count": 0,
      "outputs": []
    },
    {
      "cell_type": "markdown",
      "metadata": {
        "id": "W2i-vv6aZ_LU",
        "colab_type": "text"
      },
      "source": [
        "## Take a look at data."
      ]
    },
    {
      "cell_type": "code",
      "metadata": {
        "id": "Ng4vC-ADY18i",
        "colab_type": "code",
        "colab": {}
      },
      "source": [
        "# Review data.\n",
        "# df\n",
        "# df.describe()\n",
        "df.describe().T\n",
        "# df.head()\n",
        "# df.tail()\n",
        "# df.columns\n",
        "# df.dtypes\n",
        "# df['bedrooms'].describe()\n",
        "# df.shape\n",
        "# df.columns.isna()\n",
        "# df.isna()"
      ],
      "execution_count": 0,
      "outputs": []
    },
    {
      "cell_type": "markdown",
      "metadata": {
        "id": "QcFwZwr4mg7r",
        "colab_type": "text"
      },
      "source": [
        "## Split for Train and Test\n"
      ]
    },
    {
      "cell_type": "code",
      "metadata": {
        "id": "h5xTisIQmfjw",
        "colab_type": "code",
        "colab": {}
      },
      "source": [
        "# Use data from January — March 2019 to train. \n",
        "df_train = df[(df['SALE_DATE'] >= '01/01/2019') & (df['SALE_DATE'] < '04/01/2019')]\n",
        "df_train.shape\n",
        "\n",
        "# Use data from April 2019 to test.\n",
        "df_test = df[(df['SALE_DATE'] >= '04/01/2019') & (df['SALE_DATE'] < '05/01/2019')]\n",
        "df_train.shape, df_test.shape"
      ],
      "execution_count": 0,
      "outputs": []
    },
    {
      "cell_type": "markdown",
      "metadata": {
        "id": "OVFGzo1nrP7u",
        "colab_type": "text"
      },
      "source": [
        "## Do one-hot encoding of categorical features."
      ]
    },
    {
      "cell_type": "code",
      "metadata": {
        "id": "iwlbwZSkrS2j",
        "colab_type": "code",
        "colab": {}
      },
      "source": [
        "# find categorical features.\n",
        "df_train.describe(exclude='number').T.sort_values(by='unique')"
      ],
      "execution_count": 0,
      "outputs": []
    },
    {
      "cell_type": "code",
      "metadata": {
        "id": "8pa5_0pKujfU",
        "colab_type": "code",
        "colab": {}
      },
      "source": [
        "target = 'SALE_PRICE'\n",
        "\n",
        "# Rows w/ only one value add no analytical value. \n",
        "only_one_value = ['BUILDING_CLASS_CATEGORY','APARTMENT_NUMBER']\n",
        "high_cardinality = ['ADDRESS', 'LAND_SQUARE_FEET', 'SALE_DATE']\n",
        "\n",
        "features = df_train.columns.drop([target] + high_cardinality + only_one_value)\n",
        "\n",
        "df_train[features].describe().T"
      ],
      "execution_count": 0,
      "outputs": []
    },
    {
      "cell_type": "code",
      "metadata": {
        "id": "W8DMo7mHzema",
        "colab_type": "code",
        "colab": {}
      },
      "source": [
        "df_train.describe(include='number').T"
      ],
      "execution_count": 0,
      "outputs": []
    },
    {
      "cell_type": "code",
      "metadata": {
        "id": "WdClWTgvz_Ub",
        "colab_type": "code",
        "colab": {}
      },
      "source": [
        "df.columns[df_train.isna().any()].tolist()"
      ],
      "execution_count": 0,
      "outputs": []
    },
    {
      "cell_type": "markdown",
      "metadata": {
        "id": "oE_npHKx0bL9",
        "colab_type": "text"
      },
      "source": [
        "## Drop Columns (as features) that have NaN\n",
        "These look unimportant."
      ]
    },
    {
      "cell_type": "code",
      "metadata": {
        "id": "6iL-g5xG0lRS",
        "colab_type": "code",
        "colab": {}
      },
      "source": [
        "features = df_train.columns.drop([target] + \n",
        "                                 high_cardinality + \n",
        "                                 only_one_value + \n",
        "                                 ['EASE-MENT', 'APARTMENT_NUMBER'])\n",
        "\n",
        "features\n",
        "\n",
        "df_train[features].describe().T\n",
        "df_train.shape"
      ],
      "execution_count": 0,
      "outputs": []
    },
    {
      "cell_type": "markdown",
      "metadata": {
        "id": "TPmB1bLh36oA",
        "colab_type": "text"
      },
      "source": [
        "## Split train and test sets into X matrix and y vector"
      ]
    },
    {
      "cell_type": "code",
      "metadata": {
        "id": "SYPDoBUg4G2O",
        "colab_type": "code",
        "colab": {}
      },
      "source": [
        "X_train = df_train[features]\n",
        "y_train = df_train[target]\n",
        "X_test = df_test[features]\n",
        "y_test = df_test[target]"
      ],
      "execution_count": 0,
      "outputs": []
    },
    {
      "cell_type": "markdown",
      "metadata": {
        "id": "lwZaP8d_3K5w",
        "colab_type": "text"
      },
      "source": [
        "## Do One Hot Encoder"
      ]
    },
    {
      "cell_type": "code",
      "metadata": {
        "id": "zTvDD5C22_m2",
        "colab_type": "code",
        "colab": {}
      },
      "source": [
        "encoder = ce.OneHotEncoder(use_cat_names=True)\n",
        "X_train = encoder.fit_transform(X_train)"
      ],
      "execution_count": 0,
      "outputs": []
    },
    {
      "cell_type": "code",
      "metadata": {
        "id": "GA2wd-gy5SYH",
        "colab_type": "code",
        "colab": {}
      },
      "source": [
        "X_train"
      ],
      "execution_count": 0,
      "outputs": []
    },
    {
      "cell_type": "code",
      "metadata": {
        "id": "uFKxEwfn-wfO",
        "colab_type": "code",
        "colab": {}
      },
      "source": [
        "# X_train.columns"
      ],
      "execution_count": 0,
      "outputs": []
    },
    {
      "cell_type": "code",
      "metadata": {
        "id": "AsRe4bGrA9Du",
        "colab_type": "code",
        "colab": {}
      },
      "source": [
        "X_test = encoder.transform(X_test)\n",
        "X_test"
      ],
      "execution_count": 0,
      "outputs": []
    },
    {
      "cell_type": "markdown",
      "metadata": {
        "id": "CgqIABFyBjYF",
        "colab_type": "text"
      },
      "source": [
        "## Select K Best"
      ]
    },
    {
      "cell_type": "code",
      "metadata": {
        "id": "1zZycEW7BlMC",
        "colab_type": "code",
        "colab": {}
      },
      "source": [
        "# Select the 11 features that best correlate with the target.\n",
        "# (11 is cool.)\n",
        "\n",
        "# Instantiate. Instantiate.       Instantiate.\n",
        "selector = SelectKBest(score_func=f_regression, k=11)\n",
        "\n",
        "# IMPORTANT!\n",
        "# .fit_transform ON THE TRAIN SET!\n",
        "# .transform on -----------> ON THE TEST SET!\n",
        "X_train_selected = selector.fit_transform(X_train, y_train)\n",
        "# X_test_selected = selector.transform(X_test)\n",
        "# X_train_selected.shape, X_test_selected.shape"
      ],
      "execution_count": 0,
      "outputs": []
    },
    {
      "cell_type": "code",
      "metadata": {
        "id": "iRMfBmWYDYRG",
        "colab_type": "code",
        "colab": {}
      },
      "source": [
        "# Identify features selected by SelectK\n",
        "names = X_train.columns\n",
        "selected_mask = selector.get_support()\n",
        "\n",
        "print('Selected:')\n",
        "for n in names[selected_mask]:\n",
        "    print(n)\n",
        "print()\n",
        "print('NOT selected:')\n",
        "for n in names[~selected_mask]:\n",
        "    print(n)"
      ],
      "execution_count": 0,
      "outputs": []
    },
    {
      "cell_type": "code",
      "metadata": {
        "id": "ysrRFQDTEt2d",
        "colab_type": "code",
        "colab": {}
      },
      "source": [
        "# Decide efficient number of features to use.\n",
        "\n",
        "for feature_count in range(1, len(X_train.columns)+1):\n",
        "    print(f'{feature_count} features')\n",
        "\n",
        "    selector = SelectKBest(score_func=f_regression, k=feature_count)\n",
        "    X_train_selected = selector.fit_transform(X_train, y_train)\n",
        "    X_test_selected = selector.transform(X_test)\n",
        "\n",
        "    model = LinearRegression()\n",
        "    model.fit(X_train_selected, y_train)\n",
        "    y_pred = model.predict(X_test_selected)\n",
        "\n",
        "    mae = mean_absolute_error(y_test, y_pred)\n",
        "    print(f'Test MAE: ${mae:,.0f} \\n')"
      ],
      "execution_count": 0,
      "outputs": []
    },
    {
      "cell_type": "code",
      "metadata": {
        "id": "LgwueDtSR2pN",
        "colab_type": "code",
        "colab": {}
      },
      "source": [
        "for alpha in [0.001, 0.01, 0.1, 1.0, 1, 100.0, 1000.0]:\n",
        "    \n",
        "    # Fit Ridge Regression model\n",
        "    display(HTML(f'Ridge Regression, with alpha={alpha}'))\n",
        "    model = Ridge(alpha=alpha, normalize=True, random_state=17)\n",
        "    model.fit(X_train, y_train)\n",
        "    y_pred = model.predict(X_test)\n",
        "\n",
        "    # Get MAE for test\n",
        "    mae = mean_absolute_error(y_test, y_pred)\n",
        "    # display(HTML(f'Test Mean Absolute Error: ${mae:,.0f}'))\n",
        "    print(f'Test Mean Absolute Error: ${mae:,.0f}')\n",
        "    \n",
        "    # Plot coefficients\n",
        "    coefficients = pd.Series(model.coef_, X_train.columns)\n",
        "    plt.figure(figsize=(16,8))\n",
        "    coefficients.sort_values().plot.barh(color='grey')\n",
        "    plt.xlim(-10000,10000)\n",
        "    plt.show()"
      ],
      "execution_count": 0,
      "outputs": []
    }
  ]
}