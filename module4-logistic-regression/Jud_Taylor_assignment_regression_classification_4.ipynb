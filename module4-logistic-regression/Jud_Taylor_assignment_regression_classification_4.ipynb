{
  "nbformat": 4,
  "nbformat_minor": 0,
  "metadata": {
    "colab": {
      "name": "Jud Taylor - assignment_regression_classification_4.ipynb",
      "provenance": [],
      "collapsed_sections": [],
      "toc_visible": true,
      "include_colab_link": true
    },
    "kernelspec": {
      "display_name": "Python 3",
      "language": "python",
      "name": "python3"
    },
    "language_info": {
      "codemirror_mode": {
        "name": "ipython",
        "version": 3
      },
      "file_extension": ".py",
      "mimetype": "text/x-python",
      "name": "python",
      "nbconvert_exporter": "python",
      "pygments_lexer": "ipython3",
      "version": "3.7.3"
    }
  },
  "cells": [
    {
      "cell_type": "markdown",
      "metadata": {
        "id": "view-in-github",
        "colab_type": "text"
      },
      "source": [
        "<a href=\"https://colab.research.google.com/github/gptix/DS-Unit-2-Linear-Models/blob/master/module4-logistic-regression/Jud_Taylor_assignment_regression_classification_4.ipynb\" target=\"_parent\"><img src=\"https://colab.research.google.com/assets/colab-badge.svg\" alt=\"Open In Colab\"/></a>"
      ]
    },
    {
      "cell_type": "markdown",
      "metadata": {
        "id": "n_nyfetxaMnT",
        "colab_type": "text"
      },
      "source": [
        "Lambda School Data Science\n",
        "\n",
        "*Unit 2, Sprint 1, Module 4*\n",
        "\n",
        "---"
      ]
    },
    {
      "cell_type": "markdown",
      "metadata": {
        "colab_type": "text",
        "id": "7IXUfiQ2UKj6"
      },
      "source": [
        "# Logistic Regression\n",
        "\n",
        "\n",
        "# Assignment 🌯\n",
        "\n",
        "You'll use a [**dataset of 400+ burrito reviews**](https://srcole.github.io/100burritos/). How accurately can you predict whether a burrito is rated 'Great'?\n",
        "\n"
      ]
    },
    {
      "cell_type": "markdown",
      "metadata": {
        "id": "tVLrLQa68WP1",
        "colab_type": "text"
      },
      "source": [
        "## Prepare import path based on environment."
      ]
    },
    {
      "cell_type": "code",
      "metadata": {
        "colab_type": "code",
        "id": "o9eSnDYhUGD7",
        "colab": {}
      },
      "source": [
        "%%capture\n",
        "import sys\n",
        "\n",
        "# If you're on Colab:\n",
        "if 'google.colab' in sys.modules:\n",
        "    DATA_PATH = 'https://raw.githubusercontent.com/LambdaSchool/DS-Unit-2-Linear-Models/master/data/'\n",
        "    !pip install category_encoders==2.*\n",
        "\n",
        "# If you're working locally:\n",
        "else:\n",
        "    DATA_PATH = '../data/'"
      ],
      "execution_count": 0,
      "outputs": []
    },
    {
      "cell_type": "markdown",
      "metadata": {
        "id": "UWrJYDwt8hLg",
        "colab_type": "text"
      },
      "source": [
        "## Import useful libraries."
      ]
    },
    {
      "cell_type": "code",
      "metadata": {
        "id": "duBJV7cGbDBE",
        "colab_type": "code",
        "colab": {}
      },
      "source": [
        "# Import useful libraries.\n",
        "import pandas as pd\n",
        "import numpy as np\n",
        "import category_encoders as ce\n",
        "from sklearn.linear_model import LogisticRegression\n",
        "from sklearn.impute import SimpleImputer\n",
        "from sklearn.linear_model import LogisticRegressionCV\n",
        "from sklearn.preprocessing import StandardScaler"
      ],
      "execution_count": 0,
      "outputs": []
    },
    {
      "cell_type": "markdown",
      "metadata": {
        "id": "NGnJjh9P8m_4",
        "colab_type": "text"
      },
      "source": [
        "## Load raw data."
      ]
    },
    {
      "cell_type": "code",
      "metadata": {
        "id": "_mSCJytXaMne",
        "colab_type": "code",
        "colab": {}
      },
      "source": [
        "# Load data downloaded from https://srcole.github.io/100burritos/\n",
        "raw_df = pd.read_csv(DATA_PATH+'burritos/burritos.csv')"
      ],
      "execution_count": 0,
      "outputs": []
    },
    {
      "cell_type": "markdown",
      "metadata": {
        "id": "-rjOIRZw8yNI",
        "colab_type": "text"
      },
      "source": [
        "## Make a working copy of raw data."
      ]
    },
    {
      "cell_type": "code",
      "metadata": {
        "id": "ePKdX-iAa2Ea",
        "colab_type": "code",
        "colab": {}
      },
      "source": [
        "# Make a working copy of the raw df.\n",
        "df = raw_df"
      ],
      "execution_count": 0,
      "outputs": []
    },
    {
      "cell_type": "markdown",
      "metadata": {
        "id": "1eUV31qt8sFb",
        "colab_type": "text"
      },
      "source": [
        "## Review dataframe."
      ]
    },
    {
      "cell_type": "code",
      "metadata": {
        "id": "iGa-jcGjbNt9",
        "colab_type": "code",
        "outputId": "d844d0f8-cb51-473f-f853-818d59d8e63d",
        "colab": {
          "base_uri": "https://localhost:8080/",
          "height": 34
        }
      },
      "source": [
        "# Review dataframe.\n",
        "# df\n",
        "# df.describe()\n",
        "# df.describe().T\n",
        "# df.head()\n",
        "# df.tail()\n",
        "# df.columns\n",
        "# df.dtypes\n",
        "df.shape\n",
        "# df.columns.isna()\n",
        "# df.isna()"
      ],
      "execution_count": 152,
      "outputs": [
        {
          "output_type": "execute_result",
          "data": {
            "text/plain": [
              "(423, 66)"
            ]
          },
          "metadata": {
            "tags": []
          },
          "execution_count": 152
        }
      ]
    },
    {
      "cell_type": "markdown",
      "metadata": {
        "id": "VQudMNuJao-n",
        "colab_type": "text"
      },
      "source": [
        "> We have developed a 10-dimensional system for rating the burritos in San Diego. ... Generate models for what makes a burrito great and investigate correlations in its dimensions.\n",
        "\n"
      ]
    },
    {
      "cell_type": "markdown",
      "metadata": {
        "id": "UbjlwGvC9Nwd",
        "colab_type": "text"
      },
      "source": [
        "## Engineer data."
      ]
    },
    {
      "cell_type": "code",
      "metadata": {
        "id": "JajdYoWonunT",
        "colab_type": "code",
        "colab": {}
      },
      "source": [
        "# Replace spaces in column names to underbars\n",
        "df.columns = [col.replace(' ', '_') for col in df]\n",
        "# df.columns\n",
        "# df.head()"
      ],
      "execution_count": 0,
      "outputs": []
    },
    {
      "cell_type": "code",
      "metadata": {
        "id": "vc3iHtkSt9ry",
        "colab_type": "code",
        "colab": {}
      },
      "source": [
        "# Convert ingredients columns to one-hot encodings\n",
        "ingredients = ['Beef','Pico','Guac','Cheese','Fries','Sour_cream','Pork','Chicken',\n",
        "               'Shrimp','Fish','Rice','Beans','Lettuce','Tomato','Bell_peper',\n",
        "               'Carrots','Cabbage','Sauce','Salsa.1','Cilantro','Onion',\n",
        "               'Taquito','Pineapple','Ham','Chile_relleno','Nopales','Lobster',\n",
        "               'Queso','Egg','Mushroom','Bacon','Sushi','Avocado','Corn',\n",
        "               'Zucchini']\n",
        "\n",
        "def check_uniques():\n",
        "  '''List unique values in columns.'''\n",
        "  for i in ingredients:\n",
        "    print(i + str(df[i].unique()))     "
      ],
      "execution_count": 0,
      "outputs": []
    },
    {
      "cell_type": "code",
      "metadata": {
        "id": "4TvCLULI6Dkm",
        "colab_type": "code",
        "colab": {}
      },
      "source": [
        "check_uniques()"
      ],
      "execution_count": 0,
      "outputs": []
    },
    {
      "cell_type": "code",
      "metadata": {
        "id": "uyzsyLw94RHu",
        "colab_type": "code",
        "colab": {}
      },
      "source": [
        "# Replace non-zeroes in columns with ones  \n",
        "for i in ingredients:\n",
        "  df[i] = df[i].map({'x': 1, 'X': 1})\n",
        "\n",
        "check_uniques()"
      ],
      "execution_count": 0,
      "outputs": []
    },
    {
      "cell_type": "code",
      "metadata": {
        "id": "nGdLzRm63hT0",
        "colab_type": "code",
        "colab": {}
      },
      "source": [
        "# Replace NaN's with 0\n",
        "for i in ingredients:\n",
        "  df[i] = df[i].fillna(0)\n",
        "check_uniques()"
      ],
      "execution_count": 0,
      "outputs": []
    },
    {
      "cell_type": "code",
      "metadata": {
        "id": "ARuob7ySaMnj",
        "colab_type": "code",
        "colab": {}
      },
      "source": [
        "# We will use an 'overall' value as 'Great', which will be encoded as True/1\n",
        "# Drop unrated burritos.\n",
        "df = df.dropna(subset=['overall'])\n",
        "\n",
        "# Add a feature to hold TF for 'Great'\n",
        "df['Great'] = df['overall'] >= 4"
      ],
      "execution_count": 0,
      "outputs": []
    },
    {
      "cell_type": "code",
      "metadata": {
        "id": "W3yS-IVT-YKS",
        "colab_type": "code",
        "colab": {}
      },
      "source": [
        "# df.Great"
      ],
      "execution_count": 0,
      "outputs": []
    },
    {
      "cell_type": "code",
      "metadata": {
        "id": "Htobs9Y8aMno",
        "colab_type": "code",
        "colab": {
          "base_uri": "https://localhost:8080/",
          "height": 241
        },
        "outputId": "807efeef-b11f-4fb9-b05a-717f80f942b8"
      },
      "source": [
        "# Clean/combine the Burrito categories\n",
        "\n",
        "# make all text in 'Burrito' column lowercase, to simplify manipulaton.\n",
        "df['Burrito'] = df['Burrito'].str.lower()\n",
        "\n",
        "# define predicates (Y/N tests)\n",
        "california = df['Burrito'].str.contains('california')\n",
        "asada = df['Burrito'].str.contains('asada')\n",
        "surf = df['Burrito'].str.contains('surf')\n",
        "carnitas = df['Burrito'].str.contains('carnitas')\n",
        "\n",
        "# Apply predicates, and apply catchall for remainder\n",
        "df.loc[california, 'Burrito'] = 'California'\n",
        "df.loc[asada, 'Burrito'] = 'Asada'\n",
        "df.loc[surf, 'Burrito'] = 'Surf & Turf'\n",
        "df.loc[carnitas, 'Burrito'] = 'Carnitas'\n",
        "df.loc[~california & ~asada & ~surf & ~carnitas, 'Burrito'] = 'Other'"
      ],
      "execution_count": 164,
      "outputs": [
        {
          "output_type": "stream",
          "text": [
            "/usr/local/lib/python3.6/dist-packages/ipykernel_launcher.py:1: SettingWithCopyWarning: \n",
            "A value is trying to be set on a copy of a slice from a DataFrame.\n",
            "Try using .loc[row_indexer,col_indexer] = value instead\n",
            "\n",
            "See the caveats in the documentation: http://pandas.pydata.org/pandas-docs/stable/user_guide/indexing.html#returning-a-view-versus-a-copy\n",
            "  \"\"\"Entry point for launching an IPython kernel.\n",
            "/usr/local/lib/python3.6/dist-packages/pandas/core/indexing.py:494: SettingWithCopyWarning: \n",
            "A value is trying to be set on a copy of a slice from a DataFrame.\n",
            "Try using .loc[row_indexer,col_indexer] = value instead\n",
            "\n",
            "See the caveats in the documentation: http://pandas.pydata.org/pandas-docs/stable/user_guide/indexing.html#returning-a-view-versus-a-copy\n",
            "  self.obj[item] = s\n"
          ],
          "name": "stderr"
        }
      ]
    },
    {
      "cell_type": "code",
      "metadata": {
        "id": "xtmR7PAs_Tya",
        "colab_type": "code",
        "colab": {
          "base_uri": "https://localhost:8080/",
          "height": 221
        },
        "outputId": "8982b5d4-a045-4c5a-eee9-86b72c77b3d0"
      },
      "source": [
        "# df.Burrito"
      ],
      "execution_count": 166,
      "outputs": [
        {
          "output_type": "execute_result",
          "data": {
            "text/plain": [
              "0      California\n",
              "1      California\n",
              "2        Carnitas\n",
              "3           Asada\n",
              "4      California\n",
              "          ...    \n",
              "418         Other\n",
              "419         Other\n",
              "420    California\n",
              "421         Other\n",
              "422         Other\n",
              "Name: Burrito, Length: 421, dtype: object"
            ]
          },
          "metadata": {
            "tags": []
          },
          "execution_count": 166
        }
      ]
    },
    {
      "cell_type": "code",
      "metadata": {
        "id": "IO_DhxjcaMnt",
        "colab_type": "code",
        "colab": {}
      },
      "source": [
        "# Drop some high cardinality categoricals\n",
        "df = df.drop(columns=['Notes', 'Location', 'Reviewer', 'Address', 'URL', 'Neighborhood'])"
      ],
      "execution_count": 0,
      "outputs": []
    },
    {
      "cell_type": "code",
      "metadata": {
        "id": "ih9XVbZNaMny",
        "colab_type": "code",
        "colab": {}
      },
      "source": [
        "# Drop some columns to prevent \"leakage\"\n",
        "df = df.drop(columns=['Rec', 'overall'])"
      ],
      "execution_count": 0,
      "outputs": []
    },
    {
      "cell_type": "markdown",
      "metadata": {
        "id": "qFdLT-8i9AjT",
        "colab_type": "text"
      },
      "source": [
        "## Split into Train, Validate, Test sets\n",
        "- [ ] Do train/validate/test split. Train on reviews from 2016 & earlier. Validate on 2017. Test on 2018 & later."
      ]
    },
    {
      "cell_type": "code",
      "metadata": {
        "id": "NZ0MMp4UcYC_",
        "colab_type": "code",
        "outputId": "0c8dbae6-1008-4a5e-98f2-c81f0f3062a8",
        "colab": {
          "base_uri": "https://localhost:8080/",
          "height": 221
        }
      },
      "source": [
        "# Create a field to hold year.\n",
        "df['Year'] = pd.DatetimeIndex(  pd.to_datetime(df['Date'], format='%m/%d/%Y')  ).year\n",
        "df['Year']"
      ],
      "execution_count": 171,
      "outputs": [
        {
          "output_type": "execute_result",
          "data": {
            "text/plain": [
              "0      2016\n",
              "1      2016\n",
              "2      2016\n",
              "3      2016\n",
              "4      2016\n",
              "       ... \n",
              "418    2019\n",
              "419    2019\n",
              "420    2019\n",
              "421    2019\n",
              "422    2019\n",
              "Name: Year, Length: 421, dtype: int64"
            ]
          },
          "metadata": {
            "tags": []
          },
          "execution_count": 171
        }
      ]
    },
    {
      "cell_type": "code",
      "metadata": {
        "id": "RJBfUqAwg0qe",
        "colab_type": "code",
        "outputId": "eb8f7f64-6493-45db-d2b2-1733ffa67887",
        "colab": {
          "base_uri": "https://localhost:8080/",
          "height": 34
        }
      },
      "source": [
        "train = df[df['Year'] <= 2016]\n",
        "val = df[df['Year'] == 2017]\n",
        "test = df[df['Year'] >= 2018]\n",
        "\n",
        "shapes = train.shape, val.shape, test.shape\n",
        "shapes"
      ],
      "execution_count": 180,
      "outputs": [
        {
          "output_type": "execute_result",
          "data": {
            "text/plain": [
              "((298, 60), (85, 60), (38, 60))"
            ]
          },
          "metadata": {
            "tags": []
          },
          "execution_count": 180
        }
      ]
    },
    {
      "cell_type": "markdown",
      "metadata": {
        "id": "kRYE-kfUAeOa",
        "colab_type": "text"
      },
      "source": [
        "## Baseline classification\n",
        "- [ ] Begin with baselines for classification."
      ]
    },
    {
      "cell_type": "code",
      "metadata": {
        "id": "4ySTvhpEBJel",
        "colab_type": "code",
        "colab": {
          "base_uri": "https://localhost:8080/",
          "height": 68
        },
        "outputId": "4a84ac34-8677-4df4-8d18-f445d1d39152"
      },
      "source": [
        "target = 'Great'\n",
        "y_train = train[target]\n",
        "print(y_train.shape)\n",
        "split_train = y_train.value_counts(normalize=True)\n",
        "great_percentage_train = split_train[1]*100\n",
        "baseline = y_train.mode().values[0]\n",
        "print(\"Baseline: is it great?  - \" + str(baseline))\n",
        "print(\"Percentage of great burritos: \" + str(round(great_percentage_train, 2)))"
      ],
      "execution_count": 201,
      "outputs": [
        {
          "output_type": "stream",
          "text": [
            "(298,)\n",
            "Baseline: is it great?  - False\n",
            "Percentage of great burritos: 40.94\n"
          ],
          "name": "stdout"
        }
      ]
    },
    {
      "cell_type": "code",
      "metadata": {
        "id": "8vEOY2weDAcx",
        "colab_type": "code",
        "colab": {
          "base_uri": "https://localhost:8080/",
          "height": 51
        },
        "outputId": "f5876a63-919f-4577-c0c9-a7e161c1b473"
      },
      "source": [
        "# Test baseline against val set\n",
        "y_val = val[target]\n",
        "print(y_val.shape)\n",
        "split_val = y_val.value_counts(normalize=True)\n",
        "# y_val.value_counts(normalize=True)\n",
        "\n",
        "great_percentage_val = split_val[1]*100\n",
        "print(\"Percentage of great burritos: \" + str(round(great_percentage_val, 2)))\n",
        "# print(\"Difference between \")\n"
      ],
      "execution_count": 202,
      "outputs": [
        {
          "output_type": "stream",
          "text": [
            "(85,)\n",
            "Percentage of great burritos: 44.71\n"
          ],
          "name": "stdout"
        }
      ]
    },
    {
      "cell_type": "markdown",
      "metadata": {
        "id": "RArybLnnEboH",
        "colab_type": "text"
      },
      "source": [
        "## Logistic Regression\n",
        "- [ ] Use scikit-learn for logistic regression."
      ]
    },
    {
      "cell_type": "code",
      "metadata": {
        "id": "MCZCCcxHEWvW",
        "colab_type": "code",
        "colab": {
          "base_uri": "https://localhost:8080/",
          "height": 197
        },
        "outputId": "7e454ec6-6ecb-438d-92d3-ada2e477849d"
      },
      "source": [
        "features = ['Pclass', 'Sex', 'Age', 'SibSp', 'Parch', 'Fare', 'Embarked']\n",
        "target = 'Survived'\n",
        "X_train = train[features]\n",
        "y_train = train[target]\n",
        "X_val = val[features]\n",
        "y_val = val[target]\n",
        "\n",
        "\n",
        "\n",
        "\n",
        "log_reg = LogisticRegression(solver='lbfgs')\n",
        "log_reg.fit(X_train, y_train)\n",
        "print('Validation Accuracy', log_reg.score(X_val_imputed, y_val))"
      ],
      "execution_count": 185,
      "outputs": [
        {
          "output_type": "error",
          "ename": "NameError",
          "evalue": "ignored",
          "traceback": [
            "\u001b[0;31m---------------------------------------------------------------------------\u001b[0m",
            "\u001b[0;31mNameError\u001b[0m                                 Traceback (most recent call last)",
            "\u001b[0;32m<ipython-input-185-8aa438a20f2b>\u001b[0m in \u001b[0;36m<module>\u001b[0;34m()\u001b[0m\n\u001b[1;32m      1\u001b[0m \u001b[0mlog_reg\u001b[0m \u001b[0;34m=\u001b[0m \u001b[0mLogisticRegression\u001b[0m\u001b[0;34m(\u001b[0m\u001b[0msolver\u001b[0m\u001b[0;34m=\u001b[0m\u001b[0;34m'lbfgs'\u001b[0m\u001b[0;34m)\u001b[0m\u001b[0;34m\u001b[0m\u001b[0;34m\u001b[0m\u001b[0m\n\u001b[0;32m----> 2\u001b[0;31m \u001b[0mlog_reg\u001b[0m\u001b[0;34m.\u001b[0m\u001b[0mfit\u001b[0m\u001b[0;34m(\u001b[0m\u001b[0mX_train\u001b[0m\u001b[0;34m,\u001b[0m \u001b[0my_train\u001b[0m\u001b[0;34m)\u001b[0m\u001b[0;34m\u001b[0m\u001b[0;34m\u001b[0m\u001b[0m\n\u001b[0m\u001b[1;32m      3\u001b[0m \u001b[0mprint\u001b[0m\u001b[0;34m(\u001b[0m\u001b[0;34m'Validation Accuracy'\u001b[0m\u001b[0;34m,\u001b[0m \u001b[0mlog_reg\u001b[0m\u001b[0;34m.\u001b[0m\u001b[0mscore\u001b[0m\u001b[0;34m(\u001b[0m\u001b[0mX_val_imputed\u001b[0m\u001b[0;34m,\u001b[0m \u001b[0my_val\u001b[0m\u001b[0;34m)\u001b[0m\u001b[0;34m)\u001b[0m\u001b[0;34m\u001b[0m\u001b[0;34m\u001b[0m\u001b[0m\n",
            "\u001b[0;31mNameError\u001b[0m: name 'X_train' is not defined"
          ]
        }
      ]
    },
    {
      "cell_type": "markdown",
      "metadata": {
        "id": "pOwV8Rf3lWjs",
        "colab_type": "text"
      },
      "source": [
        "- [ ] Get your model's validation accuracy. (Multiple times if you try multiple iterations.)\n",
        "- [ ] Get your model's test accuracy. (One time, at the end.)\n",
        "- [ ] Commit your notebook to your fork of the GitHub repo.\n",
        "\n",
        "\n",
        "## Stretch Goals\n",
        "\n",
        "- [ ] Add your own stretch goal(s) !\n",
        "- [ ] Make exploratory visualizations.\n",
        "- [ ] Do one-hot encoding.\n",
        "- [ ] Do [feature scaling](https://scikit-learn.org/stable/modules/preprocessing.html).\n",
        "- [ ] Get and plot your coefficients.\n",
        "- [ ] Try [scikit-learn pipelines](https://scikit-learn.org/stable/modules/compose.html)."
      ]
    },
    {
      "cell_type": "code",
      "metadata": {
        "id": "IRrFNL7LaMn2",
        "colab_type": "code",
        "colab": {}
      },
      "source": [
        ""
      ],
      "execution_count": 0,
      "outputs": []
    }
  ]
}