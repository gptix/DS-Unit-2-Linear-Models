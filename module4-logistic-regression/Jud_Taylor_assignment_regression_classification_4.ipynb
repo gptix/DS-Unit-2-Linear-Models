{
  "nbformat": 4,
  "nbformat_minor": 0,
  "metadata": {
    "colab": {
      "name": "Copy of Jud Taylor - assignment_regression_classification_4.ipynb",
      "provenance": [],
      "collapsed_sections": [],
      "toc_visible": true,
      "include_colab_link": true
    },
    "kernelspec": {
      "display_name": "Python 3",
      "language": "python",
      "name": "python3"
    },
    "language_info": {
      "codemirror_mode": {
        "name": "ipython",
        "version": 3
      },
      "file_extension": ".py",
      "mimetype": "text/x-python",
      "name": "python",
      "nbconvert_exporter": "python",
      "pygments_lexer": "ipython3",
      "version": "3.7.3"
    }
  },
  "cells": [
    {
      "cell_type": "markdown",
      "metadata": {
        "id": "view-in-github",
        "colab_type": "text"
      },
      "source": [
        "<a href=\"https://colab.research.google.com/github/gptix/DS-Unit-2-Linear-Models/blob/master/module4-logistic-regression/Jud_Taylor_assignment_regression_classification_4.ipynb\" target=\"_parent\"><img src=\"https://colab.research.google.com/assets/colab-badge.svg\" alt=\"Open In Colab\"/></a>"
      ]
    },
    {
      "cell_type": "markdown",
      "metadata": {
        "id": "n_nyfetxaMnT",
        "colab_type": "text"
      },
      "source": [
        "Lambda School Data Science\n",
        "\n",
        "*Unit 2, Sprint 1, Module 4*\n",
        "\n",
        "---"
      ]
    },
    {
      "cell_type": "markdown",
      "metadata": {
        "colab_type": "text",
        "id": "7IXUfiQ2UKj6"
      },
      "source": [
        "# Logistic Regression\n",
        "\n",
        "\n",
        "# Assignment 🌯\n",
        "\n",
        "You'll use a [**dataset of 400+ burrito reviews**](https://srcole.github.io/100burritos/). How accurately can you predict whether a burrito is rated 'Great'?\n",
        "\n"
      ]
    },
    {
      "cell_type": "markdown",
      "metadata": {
        "id": "tVLrLQa68WP1",
        "colab_type": "text"
      },
      "source": [
        "## Prepare import path based on environment."
      ]
    },
    {
      "cell_type": "code",
      "metadata": {
        "colab_type": "code",
        "id": "o9eSnDYhUGD7",
        "colab": {}
      },
      "source": [
        "%%capture\n",
        "import sys\n",
        "\n",
        "# If you're on Colab:\n",
        "if 'google.colab' in sys.modules:\n",
        "    DATA_PATH = 'https://raw.githubusercontent.com/LambdaSchool/DS-Unit-2-Linear-Models/master/data/'\n",
        "    !pip install category_encoders==2.*\n",
        "\n",
        "# If you're working locally:\n",
        "else:\n",
        "    DATA_PATH = '../data/'"
      ],
      "execution_count": 0,
      "outputs": []
    },
    {
      "cell_type": "markdown",
      "metadata": {
        "id": "UWrJYDwt8hLg",
        "colab_type": "text"
      },
      "source": [
        "## Import useful libraries."
      ]
    },
    {
      "cell_type": "code",
      "metadata": {
        "id": "duBJV7cGbDBE",
        "colab_type": "code",
        "colab": {}
      },
      "source": [
        "# Import useful libraries.\n",
        "import pandas as pd\n",
        "import numpy as np\n",
        "\n",
        "import category_encoders as ce\n",
        "from sklearn.linear_model import LogisticRegression\n",
        "from sklearn.impute import SimpleImputer\n",
        "from sklearn.linear_model import LogisticRegressionCV\n",
        "from sklearn.preprocessing import StandardScaler"
      ],
      "execution_count": 0,
      "outputs": []
    },
    {
      "cell_type": "markdown",
      "metadata": {
        "id": "NGnJjh9P8m_4",
        "colab_type": "text"
      },
      "source": [
        "## Load raw data."
      ]
    },
    {
      "cell_type": "code",
      "metadata": {
        "id": "_mSCJytXaMne",
        "colab_type": "code",
        "colab": {}
      },
      "source": [
        "# Load data downloaded from https://srcole.github.io/100burritos/\n",
        "raw_df = pd.read_csv(DATA_PATH+'burritos/burritos.csv')"
      ],
      "execution_count": 0,
      "outputs": []
    },
    {
      "cell_type": "markdown",
      "metadata": {
        "id": "-rjOIRZw8yNI",
        "colab_type": "text"
      },
      "source": [
        "## Make a working copy of raw data."
      ]
    },
    {
      "cell_type": "code",
      "metadata": {
        "id": "ePKdX-iAa2Ea",
        "colab_type": "code",
        "colab": {}
      },
      "source": [
        "# Make a working copy of the raw df.\n",
        "df = raw_df"
      ],
      "execution_count": 0,
      "outputs": []
    },
    {
      "cell_type": "markdown",
      "metadata": {
        "id": "1eUV31qt8sFb",
        "colab_type": "text"
      },
      "source": [
        "## Review dataframe."
      ]
    },
    {
      "cell_type": "code",
      "metadata": {
        "id": "iGa-jcGjbNt9",
        "colab_type": "code",
        "outputId": "494bbbbc-c7d2-4ea0-db3e-1d4873854658",
        "colab": {
          "base_uri": "https://localhost:8080/",
          "height": 34
        }
      },
      "source": [
        "# Review dataframe.\n",
        "# df\n",
        "# df.describe()\n",
        "# df.describe().T\n",
        "# df.head()\n",
        "# df.tail()\n",
        "# df.columns\n",
        "# df.dtypes\n",
        "df.shape\n",
        "# df.columns.isna()\n",
        "# df.isna()"
      ],
      "execution_count": 46,
      "outputs": [
        {
          "output_type": "execute_result",
          "data": {
            "text/plain": [
              "(423, 66)"
            ]
          },
          "metadata": {
            "tags": []
          },
          "execution_count": 46
        }
      ]
    },
    {
      "cell_type": "markdown",
      "metadata": {
        "id": "VQudMNuJao-n",
        "colab_type": "text"
      },
      "source": [
        "> We have developed a 10-dimensional system for rating the burritos in San Diego. ... Generate models for what makes a burrito great and investigate correlations in its dimensions.\n",
        "\n"
      ]
    },
    {
      "cell_type": "markdown",
      "metadata": {
        "id": "UbjlwGvC9Nwd",
        "colab_type": "text"
      },
      "source": [
        "## Engineer data."
      ]
    },
    {
      "cell_type": "code",
      "metadata": {
        "id": "JajdYoWonunT",
        "colab_type": "code",
        "colab": {}
      },
      "source": [
        "# Replace spaces in column names to underbars\n",
        "df.columns = [col.replace(' ', '_') for col in df]\n",
        "# df.columns\n",
        "# df.head()"
      ],
      "execution_count": 0,
      "outputs": []
    },
    {
      "cell_type": "code",
      "metadata": {
        "id": "vc3iHtkSt9ry",
        "colab_type": "code",
        "colab": {}
      },
      "source": [
        "# Convert ingredients columns to one-hot encodings\n",
        "\n",
        "ingredients = ['Beef','Pico','Guac','Cheese','Fries','Sour_cream','Pork','Chicken',\n",
        "               'Shrimp','Fish','Rice','Beans','Lettuce','Tomato','Bell_peper',\n",
        "               'Carrots','Cabbage','Sauce','Salsa.1','Cilantro','Onion',\n",
        "               'Taquito','Pineapple','Ham','Chile_relleno','Nopales','Lobster',\n",
        "               'Queso','Egg','Mushroom','Bacon','Sushi','Avocado','Corn',\n",
        "               'Zucchini']\n",
        "\n",
        "# quick utility\n",
        "def check_uniques():\n",
        "  '''List unique values in columns.'''\n",
        "  for i in ingredients:\n",
        "    print(i + str(df[i].unique()))     "
      ],
      "execution_count": 0,
      "outputs": []
    },
    {
      "cell_type": "code",
      "metadata": {
        "id": "4TvCLULI6Dkm",
        "colab_type": "code",
        "colab": {}
      },
      "source": [
        "# check_uniques()"
      ],
      "execution_count": 0,
      "outputs": []
    },
    {
      "cell_type": "code",
      "metadata": {
        "id": "uyzsyLw94RHu",
        "colab_type": "code",
        "colab": {}
      },
      "source": [
        "# Replace non-zeroes in columns with ones  \n",
        "for i in ingredients:\n",
        "  df[i] = df[i].map({'x': 1, 'X': 1})\n",
        "\n",
        "# check_uniques()"
      ],
      "execution_count": 0,
      "outputs": []
    },
    {
      "cell_type": "code",
      "metadata": {
        "id": "nGdLzRm63hT0",
        "colab_type": "code",
        "colab": {}
      },
      "source": [
        "# Replace NaN's with 0\n",
        "for i in ingredients:\n",
        "  df[i] = df[i].fillna(0)\n",
        "# check_uniques()"
      ],
      "execution_count": 0,
      "outputs": []
    },
    {
      "cell_type": "code",
      "metadata": {
        "id": "ARuob7ySaMnj",
        "colab_type": "code",
        "outputId": "0fabfdee-8ec9-4406-9f76-4c54b14e9716",
        "colab": {
          "base_uri": "https://localhost:8080/",
          "height": 139
        }
      },
      "source": [
        "# We will use an 'overall' value as 'Great', which will be encoded as True/1\n",
        "# Drop unrated burritos.\n",
        "df = df.dropna(subset=['overall'])\n",
        "\n",
        "# Add a feature to hold TF for 'Great'\n",
        "df['Great'] = df['overall'] >= 4"
      ],
      "execution_count": 52,
      "outputs": [
        {
          "output_type": "stream",
          "text": [
            "/usr/local/lib/python3.6/dist-packages/ipykernel_launcher.py:4: SettingWithCopyWarning: \n",
            "A value is trying to be set on a copy of a slice from a DataFrame.\n",
            "Try using .loc[row_indexer,col_indexer] = value instead\n",
            "\n",
            "See the caveats in the documentation: http://pandas.pydata.org/pandas-docs/stable/user_guide/indexing.html#returning-a-view-versus-a-copy\n",
            "  after removing the cwd from sys.path.\n"
          ],
          "name": "stderr"
        }
      ]
    },
    {
      "cell_type": "code",
      "metadata": {
        "id": "W3yS-IVT-YKS",
        "colab_type": "code",
        "colab": {}
      },
      "source": [
        "# df.Great"
      ],
      "execution_count": 0,
      "outputs": []
    },
    {
      "cell_type": "code",
      "metadata": {
        "id": "Htobs9Y8aMno",
        "colab_type": "code",
        "outputId": "412a90dd-dda8-4ee5-f501-73bfa43875a8",
        "colab": {
          "base_uri": "https://localhost:8080/",
          "height": 241
        }
      },
      "source": [
        "# Clean/combine the Burrito categories\n",
        "\n",
        "# make all text in 'Burrito' column lowercase, to simplify manipulaton.\n",
        "df['Burrito'] = df['Burrito'].str.lower()\n",
        "\n",
        "# define predicates (Y/N tests)\n",
        "california = df['Burrito'].str.contains('california')\n",
        "asada = df['Burrito'].str.contains('asada')\n",
        "surf = df['Burrito'].str.contains('surf')\n",
        "carnitas = df['Burrito'].str.contains('carnitas')\n",
        "\n",
        "# Apply predicates, and apply catchall for remainder\n",
        "df.loc[california, 'Burrito'] = 'California'\n",
        "df.loc[asada, 'Burrito'] = 'Asada'\n",
        "df.loc[surf, 'Burrito'] = 'Surf & Turf'\n",
        "df.loc[carnitas, 'Burrito'] = 'Carnitas'\n",
        "df.loc[~california & ~asada & ~surf & ~carnitas, 'Burrito'] = 'Other'"
      ],
      "execution_count": 54,
      "outputs": [
        {
          "output_type": "stream",
          "text": [
            "/usr/local/lib/python3.6/dist-packages/ipykernel_launcher.py:1: SettingWithCopyWarning: \n",
            "A value is trying to be set on a copy of a slice from a DataFrame.\n",
            "Try using .loc[row_indexer,col_indexer] = value instead\n",
            "\n",
            "See the caveats in the documentation: http://pandas.pydata.org/pandas-docs/stable/user_guide/indexing.html#returning-a-view-versus-a-copy\n",
            "  \"\"\"Entry point for launching an IPython kernel.\n",
            "/usr/local/lib/python3.6/dist-packages/pandas/core/indexing.py:494: SettingWithCopyWarning: \n",
            "A value is trying to be set on a copy of a slice from a DataFrame.\n",
            "Try using .loc[row_indexer,col_indexer] = value instead\n",
            "\n",
            "See the caveats in the documentation: http://pandas.pydata.org/pandas-docs/stable/user_guide/indexing.html#returning-a-view-versus-a-copy\n",
            "  self.obj[item] = s\n"
          ],
          "name": "stderr"
        }
      ]
    },
    {
      "cell_type": "code",
      "metadata": {
        "id": "xtmR7PAs_Tya",
        "colab_type": "code",
        "colab": {}
      },
      "source": [
        "# df.Burrito"
      ],
      "execution_count": 0,
      "outputs": []
    },
    {
      "cell_type": "code",
      "metadata": {
        "id": "IO_DhxjcaMnt",
        "colab_type": "code",
        "colab": {}
      },
      "source": [
        "# Drop some high cardinality categoricals\n",
        "df = df.drop(columns=['Notes', 'Location', 'Reviewer', 'Address', 'URL', 'Neighborhood'])"
      ],
      "execution_count": 0,
      "outputs": []
    },
    {
      "cell_type": "code",
      "metadata": {
        "id": "ih9XVbZNaMny",
        "colab_type": "code",
        "colab": {}
      },
      "source": [
        "# Drop some columns to prevent \"leakage\"\n",
        "df = df.drop(columns=['Rec', 'overall'])"
      ],
      "execution_count": 0,
      "outputs": []
    },
    {
      "cell_type": "markdown",
      "metadata": {
        "id": "qFdLT-8i9AjT",
        "colab_type": "text"
      },
      "source": [
        "## Split into Train, Validate, Test sets\n",
        "- [ ] Do train/validate/test split. Train on reviews from 2016 & earlier. Validate on 2017. Test on 2018 & later."
      ]
    },
    {
      "cell_type": "code",
      "metadata": {
        "id": "NZ0MMp4UcYC_",
        "colab_type": "code",
        "outputId": "60226854-9a72-45b1-e98b-25b613896300",
        "colab": {
          "base_uri": "https://localhost:8080/",
          "height": 221
        }
      },
      "source": [
        "# Create a field to hold year.\n",
        "df['Year'] = pd.DatetimeIndex(  pd.to_datetime(df['Date'], format='%m/%d/%Y')  ).year\n",
        "df['Year']"
      ],
      "execution_count": 58,
      "outputs": [
        {
          "output_type": "execute_result",
          "data": {
            "text/plain": [
              "0      2016\n",
              "1      2016\n",
              "2      2016\n",
              "3      2016\n",
              "4      2016\n",
              "       ... \n",
              "418    2019\n",
              "419    2019\n",
              "420    2019\n",
              "421    2019\n",
              "422    2019\n",
              "Name: Year, Length: 421, dtype: int64"
            ]
          },
          "metadata": {
            "tags": []
          },
          "execution_count": 58
        }
      ]
    },
    {
      "cell_type": "code",
      "metadata": {
        "id": "RJBfUqAwg0qe",
        "colab_type": "code",
        "outputId": "8705a2ab-f70f-422a-b628-6936254d696e",
        "colab": {
          "base_uri": "https://localhost:8080/",
          "height": 1000
        }
      },
      "source": [
        "train = df[df['Year'] <= 2016]\n",
        "val = df[df['Year'] == 2017]\n",
        "test = df[df['Year'] >= 2018]\n",
        "\n",
        "shapes = train.shape, val.shape, test.shape\n",
        "df.shape\n",
        "# shapes\n",
        "\n",
        "df.isna().sum()"
      ],
      "execution_count": 59,
      "outputs": [
        {
          "output_type": "execute_result",
          "data": {
            "text/plain": [
              "Burrito             0\n",
              "Date                0\n",
              "Yelp              334\n",
              "Google            334\n",
              "Chips             395\n",
              "Cost                7\n",
              "Hunger              3\n",
              "Mass_(g)          399\n",
              "Density_(g/mL)    399\n",
              "Length            138\n",
              "Circum            140\n",
              "Volume            140\n",
              "Tortilla            0\n",
              "Temp               20\n",
              "Meat               14\n",
              "Fillings            3\n",
              "Meat:filling        9\n",
              "Uniformity          2\n",
              "Salsa              25\n",
              "Synergy             2\n",
              "Wrap                3\n",
              "Unreliable        388\n",
              "NonSD             414\n",
              "Beef                0\n",
              "Pico                0\n",
              "Guac                0\n",
              "Cheese              0\n",
              "Fries               0\n",
              "Sour_cream          0\n",
              "Pork                0\n",
              "Chicken             0\n",
              "Shrimp              0\n",
              "Fish                0\n",
              "Rice                0\n",
              "Beans               0\n",
              "Lettuce             0\n",
              "Tomato              0\n",
              "Bell_peper          0\n",
              "Carrots             0\n",
              "Cabbage             0\n",
              "Sauce               0\n",
              "Salsa.1             0\n",
              "Cilantro            0\n",
              "Onion               0\n",
              "Taquito             0\n",
              "Pineapple           0\n",
              "Ham                 0\n",
              "Chile_relleno       0\n",
              "Nopales             0\n",
              "Lobster             0\n",
              "Queso               0\n",
              "Egg                 0\n",
              "Mushroom            0\n",
              "Bacon               0\n",
              "Sushi               0\n",
              "Avocado             0\n",
              "Corn                0\n",
              "Zucchini            0\n",
              "Great               0\n",
              "Year                0\n",
              "dtype: int64"
            ]
          },
          "metadata": {
            "tags": []
          },
          "execution_count": 59
        }
      ]
    },
    {
      "cell_type": "code",
      "metadata": {
        "id": "s0yWOlPN6BTu",
        "colab_type": "code",
        "outputId": "942f9a3c-3da8-4f66-a929-051cf25464b4",
        "colab": {
          "base_uri": "https://localhost:8080/",
          "height": 34
        }
      },
      "source": [
        "# Drop columns with large numbers of NaN's\n",
        "# drop_because_too_many_NaNs = ['Yelp', 'Google', 'Chips', 'Mass_(g)', \n",
        "#                               'Density_(g/mL)', 'Length', 'Circum', 'Volume', \n",
        "#                               'Unreliable', 'NonSD']\n",
        "\n",
        "# df = df.drop(columns=drop_because_too_many_NaNs)\n",
        "df.shape"
      ],
      "execution_count": 60,
      "outputs": [
        {
          "output_type": "execute_result",
          "data": {
            "text/plain": [
              "(421, 60)"
            ]
          },
          "metadata": {
            "tags": []
          },
          "execution_count": 60
        }
      ]
    },
    {
      "cell_type": "code",
      "metadata": {
        "id": "IexCqDUp8CpB",
        "colab_type": "code",
        "outputId": "5b0a14a9-3d58-41f3-a0d5-fbf973d0fe1e",
        "colab": {
          "base_uri": "https://localhost:8080/",
          "height": 1000
        }
      },
      "source": [
        "df.isna().sum()\n",
        "# df['Temp'].isna().count()\n",
        "df.dtypes"
      ],
      "execution_count": 61,
      "outputs": [
        {
          "output_type": "execute_result",
          "data": {
            "text/plain": [
              "Burrito            object\n",
              "Date               object\n",
              "Yelp              float64\n",
              "Google            float64\n",
              "Chips              object\n",
              "Cost              float64\n",
              "Hunger            float64\n",
              "Mass_(g)          float64\n",
              "Density_(g/mL)    float64\n",
              "Length            float64\n",
              "Circum            float64\n",
              "Volume            float64\n",
              "Tortilla          float64\n",
              "Temp              float64\n",
              "Meat              float64\n",
              "Fillings          float64\n",
              "Meat:filling      float64\n",
              "Uniformity        float64\n",
              "Salsa             float64\n",
              "Synergy           float64\n",
              "Wrap              float64\n",
              "Unreliable         object\n",
              "NonSD              object\n",
              "Beef              float64\n",
              "Pico              float64\n",
              "Guac              float64\n",
              "Cheese            float64\n",
              "Fries             float64\n",
              "Sour_cream        float64\n",
              "Pork              float64\n",
              "Chicken           float64\n",
              "Shrimp            float64\n",
              "Fish              float64\n",
              "Rice              float64\n",
              "Beans             float64\n",
              "Lettuce           float64\n",
              "Tomato            float64\n",
              "Bell_peper        float64\n",
              "Carrots           float64\n",
              "Cabbage           float64\n",
              "Sauce             float64\n",
              "Salsa.1           float64\n",
              "Cilantro          float64\n",
              "Onion             float64\n",
              "Taquito           float64\n",
              "Pineapple         float64\n",
              "Ham               float64\n",
              "Chile_relleno     float64\n",
              "Nopales           float64\n",
              "Lobster           float64\n",
              "Queso             float64\n",
              "Egg               float64\n",
              "Mushroom          float64\n",
              "Bacon             float64\n",
              "Sushi             float64\n",
              "Avocado           float64\n",
              "Corn              float64\n",
              "Zucchini          float64\n",
              "Great                bool\n",
              "Year                int64\n",
              "dtype: object"
            ]
          },
          "metadata": {
            "tags": []
          },
          "execution_count": 61
        }
      ]
    },
    {
      "cell_type": "code",
      "metadata": {
        "id": "4JKrQo7_9WeI",
        "colab_type": "code",
        "outputId": "9723c6e3-02d0-4aa3-9a18-840f34b32c3f",
        "colab": {
          "base_uri": "https://localhost:8080/",
          "height": 34
        }
      },
      "source": [
        "# Drop rows with NaN\n",
        "df = df.dropna()\n",
        "df.shape"
      ],
      "execution_count": 62,
      "outputs": [
        {
          "output_type": "execute_result",
          "data": {
            "text/plain": [
              "(0, 60)"
            ]
          },
          "metadata": {
            "tags": []
          },
          "execution_count": 62
        }
      ]
    },
    {
      "cell_type": "markdown",
      "metadata": {
        "id": "kRYE-kfUAeOa",
        "colab_type": "text"
      },
      "source": [
        "## Baseline classification\n",
        "- [ ] Begin with baselines for classification."
      ]
    },
    {
      "cell_type": "code",
      "metadata": {
        "id": "4ySTvhpEBJel",
        "colab_type": "code",
        "outputId": "991af44a-be42-4e02-c7e0-b0182b5c26af",
        "colab": {
          "base_uri": "https://localhost:8080/",
          "height": 68
        }
      },
      "source": [
        "target = 'Great'\n",
        "y_train = train[target]\n",
        "print(y_train.shape)\n",
        "split_train = y_train.value_counts(normalize=True)\n",
        "great_percentage_train = split_train[1]*100\n",
        "baseline = y_train.mode().values[0]\n",
        "print(\"Baseline: is it great?  - \" + str(baseline))\n",
        "print(\"Percentage of great burritos: \" + str(round(great_percentage_train, 2)))"
      ],
      "execution_count": 63,
      "outputs": [
        {
          "output_type": "stream",
          "text": [
            "(298,)\n",
            "Baseline: is it great?  - False\n",
            "Percentage of great burritos: 40.94\n"
          ],
          "name": "stdout"
        }
      ]
    },
    {
      "cell_type": "code",
      "metadata": {
        "id": "8vEOY2weDAcx",
        "colab_type": "code",
        "outputId": "cce20ba1-ac69-4fa8-ecee-2e24666e8ca9",
        "colab": {
          "base_uri": "https://localhost:8080/",
          "height": 51
        }
      },
      "source": [
        "# Test baseline against val set\n",
        "y_val = val[target]\n",
        "print(y_val.shape)\n",
        "split_val = y_val.value_counts(normalize=True)\n",
        "# y_val.value_counts(normalize=True)\n",
        "\n",
        "great_percentage_val = split_val[1]*100\n",
        "print(\"Percentage of great burritos: \" + str(round(great_percentage_val, 2)))\n",
        "# print(\"Difference between \")\n"
      ],
      "execution_count": 64,
      "outputs": [
        {
          "output_type": "stream",
          "text": [
            "(85,)\n",
            "Percentage of great burritos: 44.71\n"
          ],
          "name": "stdout"
        }
      ]
    },
    {
      "cell_type": "markdown",
      "metadata": {
        "id": "RArybLnnEboH",
        "colab_type": "text"
      },
      "source": [
        "## Logistic Regression\n",
        "- [ ] Use scikit-learn for logistic regression."
      ]
    },
    {
      "cell_type": "code",
      "metadata": {
        "id": "MCZCCcxHEWvW",
        "colab_type": "code",
        "outputId": "f51848a4-321f-4262-ea44-c57ec44c09ce",
        "colab": {
          "base_uri": "https://localhost:8080/",
          "height": 224
        }
      },
      "source": [
        "features = ['Burrito', 'Cost', 'Hunger', 'Tortilla', 'Temp', 'Meat', 'Fillings', \n",
        "            'Uniformity', 'Salsa', 'Synergy', 'Wrap', 'Beef', 'Pork', \n",
        "            'Chicken', 'Shrimp', 'Fish']\n",
        "\n",
        "target = 'Great'\n",
        "\n",
        "X_train = train[features]\n",
        "y_train = train[target]\n",
        "X_val = val[features]\n",
        "y_val = val[target]\n",
        "\n",
        "log_reg = LogisticRegression(solver='lbfgs')\n",
        "\n",
        "X_train.shape, y_train.shape, X_val.shape, y_val.shape\n",
        "\n",
        "X_train.head()"
      ],
      "execution_count": 76,
      "outputs": [
        {
          "output_type": "execute_result",
          "data": {
            "text/html": [
              "<div>\n",
              "<style scoped>\n",
              "    .dataframe tbody tr th:only-of-type {\n",
              "        vertical-align: middle;\n",
              "    }\n",
              "\n",
              "    .dataframe tbody tr th {\n",
              "        vertical-align: top;\n",
              "    }\n",
              "\n",
              "    .dataframe thead th {\n",
              "        text-align: right;\n",
              "    }\n",
              "</style>\n",
              "<table border=\"1\" class=\"dataframe\">\n",
              "  <thead>\n",
              "    <tr style=\"text-align: right;\">\n",
              "      <th></th>\n",
              "      <th>Burrito</th>\n",
              "      <th>Cost</th>\n",
              "      <th>Hunger</th>\n",
              "      <th>Tortilla</th>\n",
              "      <th>Temp</th>\n",
              "      <th>Meat</th>\n",
              "      <th>Fillings</th>\n",
              "      <th>Uniformity</th>\n",
              "      <th>Salsa</th>\n",
              "      <th>Synergy</th>\n",
              "      <th>Wrap</th>\n",
              "      <th>Beef</th>\n",
              "      <th>Pork</th>\n",
              "      <th>Chicken</th>\n",
              "      <th>Shrimp</th>\n",
              "      <th>Fish</th>\n",
              "    </tr>\n",
              "  </thead>\n",
              "  <tbody>\n",
              "    <tr>\n",
              "      <th>0</th>\n",
              "      <td>California</td>\n",
              "      <td>6.49</td>\n",
              "      <td>3.0</td>\n",
              "      <td>3.0</td>\n",
              "      <td>5.0</td>\n",
              "      <td>3.0</td>\n",
              "      <td>3.5</td>\n",
              "      <td>4.0</td>\n",
              "      <td>4.0</td>\n",
              "      <td>4.0</td>\n",
              "      <td>4.0</td>\n",
              "      <td>1.0</td>\n",
              "      <td>0.0</td>\n",
              "      <td>0.0</td>\n",
              "      <td>0.0</td>\n",
              "      <td>0.0</td>\n",
              "    </tr>\n",
              "    <tr>\n",
              "      <th>1</th>\n",
              "      <td>California</td>\n",
              "      <td>5.45</td>\n",
              "      <td>3.5</td>\n",
              "      <td>2.0</td>\n",
              "      <td>3.5</td>\n",
              "      <td>2.5</td>\n",
              "      <td>2.5</td>\n",
              "      <td>4.0</td>\n",
              "      <td>3.5</td>\n",
              "      <td>2.5</td>\n",
              "      <td>5.0</td>\n",
              "      <td>1.0</td>\n",
              "      <td>0.0</td>\n",
              "      <td>0.0</td>\n",
              "      <td>0.0</td>\n",
              "      <td>0.0</td>\n",
              "    </tr>\n",
              "    <tr>\n",
              "      <th>2</th>\n",
              "      <td>Carnitas</td>\n",
              "      <td>4.85</td>\n",
              "      <td>1.5</td>\n",
              "      <td>3.0</td>\n",
              "      <td>2.0</td>\n",
              "      <td>2.5</td>\n",
              "      <td>3.0</td>\n",
              "      <td>4.0</td>\n",
              "      <td>3.0</td>\n",
              "      <td>3.0</td>\n",
              "      <td>5.0</td>\n",
              "      <td>0.0</td>\n",
              "      <td>1.0</td>\n",
              "      <td>0.0</td>\n",
              "      <td>0.0</td>\n",
              "      <td>0.0</td>\n",
              "    </tr>\n",
              "    <tr>\n",
              "      <th>3</th>\n",
              "      <td>Asada</td>\n",
              "      <td>5.25</td>\n",
              "      <td>2.0</td>\n",
              "      <td>3.0</td>\n",
              "      <td>2.0</td>\n",
              "      <td>3.5</td>\n",
              "      <td>3.0</td>\n",
              "      <td>5.0</td>\n",
              "      <td>4.0</td>\n",
              "      <td>4.0</td>\n",
              "      <td>5.0</td>\n",
              "      <td>1.0</td>\n",
              "      <td>0.0</td>\n",
              "      <td>0.0</td>\n",
              "      <td>0.0</td>\n",
              "      <td>0.0</td>\n",
              "    </tr>\n",
              "    <tr>\n",
              "      <th>4</th>\n",
              "      <td>California</td>\n",
              "      <td>6.59</td>\n",
              "      <td>4.0</td>\n",
              "      <td>4.0</td>\n",
              "      <td>5.0</td>\n",
              "      <td>4.0</td>\n",
              "      <td>3.5</td>\n",
              "      <td>5.0</td>\n",
              "      <td>2.5</td>\n",
              "      <td>4.5</td>\n",
              "      <td>4.0</td>\n",
              "      <td>1.0</td>\n",
              "      <td>0.0</td>\n",
              "      <td>0.0</td>\n",
              "      <td>0.0</td>\n",
              "      <td>0.0</td>\n",
              "    </tr>\n",
              "  </tbody>\n",
              "</table>\n",
              "</div>"
            ],
            "text/plain": [
              "      Burrito  Cost  Hunger  Tortilla  Temp  ...  Beef  Pork  Chicken  Shrimp  Fish\n",
              "0  California  6.49     3.0       3.0   5.0  ...   1.0   0.0      0.0     0.0   0.0\n",
              "1  California  5.45     3.5       2.0   3.5  ...   1.0   0.0      0.0     0.0   0.0\n",
              "2    Carnitas  4.85     1.5       3.0   2.0  ...   0.0   1.0      0.0     0.0   0.0\n",
              "3       Asada  5.25     2.0       3.0   2.0  ...   1.0   0.0      0.0     0.0   0.0\n",
              "4  California  6.59     4.0       4.0   5.0  ...   1.0   0.0      0.0     0.0   0.0\n",
              "\n",
              "[5 rows x 16 columns]"
            ]
          },
          "metadata": {
            "tags": []
          },
          "execution_count": 76
        }
      ]
    },
    {
      "cell_type": "code",
      "metadata": {
        "id": "bCiF6fGKMMvz",
        "colab_type": "code",
        "colab": {}
      },
      "source": [
        "# log_reg.fit(X_train, y_train)\n",
        "# print('Validation Accuracy', log_reg.score(X_val_imputed, y_val))"
      ],
      "execution_count": 0,
      "outputs": []
    },
    {
      "cell_type": "code",
      "metadata": {
        "id": "uCUYsxehO_49",
        "colab_type": "code",
        "colab": {}
      },
      "source": [
        "encoder = ce.OneHotEncoder(use_cat_names=True)\n",
        "X_train_encoded = encoder.fit_transform(X_train)\n",
        "X_val_encoded = encoder.transform(X_val)\n",
        "X_train_encoded.head()"
      ],
      "execution_count": 0,
      "outputs": []
    },
    {
      "cell_type": "code",
      "metadata": {
        "id": "9VUd3T-pQxUe",
        "colab_type": "code",
        "colab": {}
      },
      "source": [
        "imputer = SimpleImputer()\n",
        "X_train_imputed = imputer.fit_transform(X_train_encoded)\n",
        "X_val_imputed = imputer.transform(X_val_encoded)\n",
        "X_train_imputed[:5]"
      ],
      "execution_count": 0,
      "outputs": []
    },
    {
      "cell_type": "code",
      "metadata": {
        "id": "6jF_o4tYQ4i4",
        "colab_type": "code",
        "colab": {}
      },
      "source": [
        "scaler = StandardScaler()\n",
        "X_train_scaled = scaler.fit_transform(X_train_imputed)\n",
        "X_val_scaled = scaler.transform(X_val_imputed)"
      ],
      "execution_count": 0,
      "outputs": []
    },
    {
      "cell_type": "code",
      "metadata": {
        "id": "zZJJFlc5SwI7",
        "colab_type": "code",
        "colab": {}
      },
      "source": [
        "X_train_scaled[:5]"
      ],
      "execution_count": 0,
      "outputs": []
    },
    {
      "cell_type": "code",
      "metadata": {
        "id": "jgPTwoTyUB0I",
        "colab_type": "code",
        "colab": {
          "base_uri": "https://localhost:8080/",
          "height": 102
        },
        "outputId": "34462b8f-5c0c-477d-b199-575a91776a72"
      },
      "source": [
        "model= LogisticRegressionCV(cv=5)\n",
        "model.fit(X_train_scaled, y_train)"
      ],
      "execution_count": 94,
      "outputs": [
        {
          "output_type": "execute_result",
          "data": {
            "text/plain": [
              "LogisticRegressionCV(Cs=10, class_weight=None, cv=5, dual=False,\n",
              "                     fit_intercept=True, intercept_scaling=1.0, l1_ratios=None,\n",
              "                     max_iter=100, multi_class='warn', n_jobs=None,\n",
              "                     penalty='l2', random_state=None, refit=True, scoring=None,\n",
              "                     solver='lbfgs', tol=0.0001, verbose=0)"
            ]
          },
          "metadata": {
            "tags": []
          },
          "execution_count": 94
        }
      ]
    },
    {
      "cell_type": "markdown",
      "metadata": {
        "id": "ME_sZ2nbQX4P",
        "colab_type": "text"
      },
      "source": [
        "- [ ] Get your model's validation accuracy. (Multiple times if you try multiple iterations.)\n"
      ]
    },
    {
      "cell_type": "code",
      "metadata": {
        "id": "6yfKD2FpU0Nw",
        "colab_type": "code",
        "colab": {
          "base_uri": "https://localhost:8080/",
          "height": 34
        },
        "outputId": "72d41d96-e07c-42c6-e233-67ab69d022f6"
      },
      "source": [
        "print('Validtion accuracy', model.score(X_val_scaled, y_val))"
      ],
      "execution_count": 93,
      "outputs": [
        {
          "output_type": "stream",
          "text": [
            "Validtion accuracy 0.8117647058823529\n"
          ],
          "name": "stdout"
        }
      ]
    },
    {
      "cell_type": "markdown",
      "metadata": {
        "id": "pOwV8Rf3lWjs",
        "colab_type": "text"
      },
      "source": [
        "- [ ] Get your model's test accuracy. (One time, at the end.)"
      ]
    },
    {
      "cell_type": "code",
      "metadata": {
        "id": "P80De2pJW-7U",
        "colab_type": "code",
        "colab": {
          "base_uri": "https://localhost:8080/",
          "height": 34
        },
        "outputId": "de5bd0d5-ae7e-40b2-9c14-bf62e493d36e"
      },
      "source": [
        "X_test = test[features]\n",
        "y_test = test[target]\n",
        "\n",
        "X_test_encoded = encoder.fit_transform(X_test)\n",
        "X_test_imputed = imputer.fit_transform(X_test_encoded)\n",
        "X_test_scaled = scaler.fit_transform(X_test_imputed)\n",
        "\n",
        "\n",
        "print('Test accuracy', model.score(X_test_scaled, y_test))"
      ],
      "execution_count": 99,
      "outputs": [
        {
          "output_type": "stream",
          "text": [
            "Test accuracy 0.7368421052631579\n"
          ],
          "name": "stdout"
        }
      ]
    },
    {
      "cell_type": "code",
      "metadata": {
        "id": "cpmUmkUrVQIv",
        "colab_type": "code",
        "colab": {
          "base_uri": "https://localhost:8080/",
          "height": 282
        },
        "outputId": "cf638df8-6532-4f39-8454-075a5ae507c0"
      },
      "source": [
        "pd.Series(model.coef_[0], X_train_encoded.columns).sort_values().plot.barh()"
      ],
      "execution_count": 97,
      "outputs": [
        {
          "output_type": "execute_result",
          "data": {
            "text/plain": [
              "<matplotlib.axes._subplots.AxesSubplot at 0x7f21283167b8>"
            ]
          },
          "metadata": {
            "tags": []
          },
          "execution_count": 97
        },
        {
          "output_type": "display_data",
          "data": {
            "image/png": "[encoded data removed]",
            "text/plain": [
              "<Figure size 432x288 with 1 Axes>"
            ]
          },
          "metadata": {
            "tags": []
          }
        }
      ]
    },
    {
      "cell_type": "markdown",
      "metadata": {
        "id": "hEsd4KYbVHYw",
        "colab_type": "text"
      },
      "source": [
        "- [ ] Commit your notebook to your fork of the GitHub repo.\n",
        "**Done**"
      ]
    },
    {
      "cell_type": "markdown",
      "metadata": {
        "id": "w1bwk5tKVJ1R",
        "colab_type": "text"
      },
      "source": [
        "## Stretch Goals\n",
        "\n",
        "- [ ] Add your own stretch goal(s) **Done (trnsformed fillings to numeric by hnd)**\n",
        "- [ ] Make exploratory visualizations. **Done**\n",
        "- [ ] Do one-hot encoding. **Done**\n",
        "- [ ] Do [feature scaling](https://scikit-learn.org/stable/modules/preprocessing.html). **Done**\n",
        "- [ ] Get and plot your coefficients. **Done**\n",
        "- [ ] Try [scikit-learn pipelines](https://scikit-learn.org/stable/modules/compose.html)."
      ]
    },
    {
      "cell_type": "code",
      "metadata": {
        "id": "IRrFNL7LaMn2",
        "colab_type": "code",
        "colab": {}
      },
      "source": [
        ""
      ],
      "execution_count": 0,
      "outputs": []
    }
  ]
}